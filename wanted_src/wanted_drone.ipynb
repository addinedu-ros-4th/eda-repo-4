{
 "cells": [
  {
   "cell_type": "markdown",
   "metadata": {},
   "source": [
    "# <center> 2차 크롤링 - <원티드> </center>"
   ]
  },
  {
   "cell_type": "markdown",
   "metadata": {},
   "source": [
    "##### 링크들 들어가서 각각 정보 수집, 드론"
   ]
  },
  {
   "cell_type": "code",
   "execution_count": 1,
   "metadata": {},
   "outputs": [],
   "source": [
    "from tqdm.notebook import tqdm\n",
    "from selenium.webdriver.common.keys import Keys\n",
    "from selenium.webdriver.support.wait import WebDriverWait\n",
    "from selenium.webdriver.support import expected_conditions as EC\n",
    "from selenium.webdriver.common.action_chains import ActionChains\n",
    "from selenium import webdriver\n",
    "from selenium.webdriver.chrome.service import Service\n",
    "from selenium.webdriver.chrome.options import Options\n",
    "from selenium.webdriver.common.by import By\n",
    "from selenium.common.exceptions import TimeoutException, StaleElementReferenceException\n",
    "import time\n",
    "from bs4 import BeautifulSoup\n",
    "from urllib.request import urlopen\n",
    "from urllib.request import Request\n",
    "import urllib\n"
   ]
  },
  {
   "cell_type": "code",
   "execution_count": 16,
   "metadata": {},
   "outputs": [],
   "source": [
    "options = webdriver.ChromeOptions()\n",
    "\n",
    "url = \"https://www.wanted.co.kr/jobsfeed\"\n",
    "driver = webdriver.Chrome(service=Service(\"../../driver/chromedriver\"),\n",
    "                          options=options)\n",
    "\n",
    "driver.get(url)"
   ]
  },
  {
   "cell_type": "code",
   "execution_count": 3,
   "metadata": {},
   "outputs": [],
   "source": [
    "driver.get(url)"
   ]
  },
  {
   "cell_type": "code",
   "execution_count": 17,
   "metadata": {},
   "outputs": [],
   "source": [
    "nav_element = driver.find_element(By.CLASS_NAME, \"Aside_asideList__3WNyu\")\n",
    "search_element = nav_element.find_element(By.CLASS_NAME, \"SvgIcon_SvgIcon__root__8vwon\")\n",
    "\n",
    "search_element.click()"
   ]
  },
  {
   "cell_type": "code",
   "execution_count": 18,
   "metadata": {},
   "outputs": [],
   "source": [
    "search_doc = driver.find_element(By.CLASS_NAME, \"SearchInput_SearchInput__gySrv\")\n",
    "search_doc.send_keys('드론')\n",
    "search_doc.send_keys(Keys.ENTER)\n"
   ]
  },
  {
   "cell_type": "code",
   "execution_count": 19,
   "metadata": {},
   "outputs": [],
   "source": [
    "wait = WebDriverWait(driver, 10)\n",
    "position_tab = wait.until(EC.element_to_be_clickable((By.XPATH, '//*[contains(text(), \"포지션\")]')))\n",
    "position_tab.click()"
   ]
  },
  {
   "cell_type": "code",
   "execution_count": 20,
   "metadata": {},
   "outputs": [
    {
     "name": "stdout",
     "output_type": "stream",
     "text": [
      "['', '서울 · 한국']\n",
      "2\n"
     ]
    }
   ],
   "source": [
    "simple_list = []\n",
    "wait = WebDriverWait(driver, 10)  \n",
    "\n",
    "simple_name_elements = []  \n",
    "\n",
    "while True:\n",
    "    driver.execute_script(\"window.scrollTo(0, document.body.scrollHeight);\")\n",
    "    time.sleep(2)\n",
    "\n",
    "    try:\n",
    "        wait.until(lambda driver: len(driver.find_elements(By.CLASS_NAME, 'JobCard_location__2EOr5')) > len(simple_name_elements))\n",
    "    except TimeoutException:\n",
    "        break\n",
    "\n",
    "    new_elements = driver.find_elements(By.CLASS_NAME, 'JobCard_location__2EOr5')\n",
    "    simple_name_elements.extend(new_elements)\n",
    "\n",
    "    # StaleElementReferenceException을 처리하기 위해 엘리먼트 수의 변경을 확인\n",
    "    try:\n",
    "        wait.until(lambda driver: len(driver.find_elements(By.CLASS_NAME, 'JobCard_location__2EOr5')) > len(simple_name_elements))\n",
    "    except TimeoutException:\n",
    "        break\n",
    "\n",
    "    if len(simple_name_elements) >= 20:\n",
    "        break\n",
    "\n",
    "\n",
    "simple_names = [element.text.strip() for element in simple_name_elements]\n",
    "print(simple_names)\n",
    "print(len(simple_names))"
   ]
  },
  {
   "cell_type": "code",
   "execution_count": 21,
   "metadata": {},
   "outputs": [],
   "source": [
    "from selenium.webdriver.common.by import By\n",
    "from selenium.common.exceptions import TimeoutException\n",
    "import time\n",
    "\n",
    "# 기업이름 요소 초기 로드\n",
    "company_name_elements = driver.find_elements(By.CLASS_NAME, 'JobCard_companyName__vZMqJ')\n",
    "num_elements_before_scroll = len(company_name_elements)\n",
    "\n",
    "while True:\n",
    "    # 페이지 스크롤\n",
    "    driver.execute_script(\"window.scrollTo(0, document.body.scrollHeight);\")\n",
    "    time.sleep(2) \n",
    "\n",
    "    try:\n",
    "        # 새로운 회사명 요소들이 로드될 때까지 대기 (타임아웃 10초)\n",
    "        wait.until(lambda driver: len(driver.find_elements(By.CLASS_NAME, 'JobCard_companyName__vZMqJ')) > num_elements_before_scroll)\n",
    "    except TimeoutException as ex:\n",
    "        break\n",
    "\n",
    "    # 현재 로드된 회사명 요소들 가져오기\n",
    "    company_name_elements = driver.find_elements(By.CLASS_NAME, 'JobCard_companyName__vZMqJ')\n",
    "    num_elements_before_scroll = len(company_name_elements)\n",
    "\n",
    "    if num_elements_before_scroll >= 20:  \n",
    "        break\n",
    "\n",
    "company_names = []\n",
    "href_lists = []\n",
    "\n",
    "href_elements = driver.find_elements(By.CSS_SELECTOR, 'a[data-attribute-id=\"position__click\"]')\n",
    "\n",
    "# 가져온 데이터 중에서 조건에 맞는 것들만 필터링\n",
    "for i, element in enumerate(company_name_elements):\n",
    "    simple_name = simple_names[min(i, len(simple_names) - 1)]\n",
    "    company_name_text = element.text.strip()\n",
    "\n",
    "\n",
    "    # simple_name에 '서울 · 한국' 또는 '경기 · 한국'이 포함된 경우에만 추가\n",
    "    if '서울 · 한국' in simple_name or '경기 · 한국' in simple_name:\n",
    "        company_names.append(company_name_text)\n",
    "        href_value = href_elements[i].get_attribute('href')\n",
    "        href_lists.append(href_value)\n",
    "\n"
   ]
  },
  {
   "cell_type": "code",
   "execution_count": 22,
   "metadata": {},
   "outputs": [],
   "source": [
    "#직무(담당업무 열)가져오기\n",
    "job_title_elements = driver.find_elements(By.CLASS_NAME, 'JobCard_title__ddkwM') \n",
    "num_elements_before_scroll = len(company_name_elements)\n",
    "\n",
    "while True:\n",
    "    # 페이지 스크롤\n",
    "    driver.execute_script(\"window.scrollTo(0, document.body.scrollHeight);\")\n",
    "    time.sleep(2) \n",
    "\n",
    "    try:\n",
    "        # 새로운 회사명 요소들이 로드될 때까지 대기 (타임아웃 10초)\n",
    "        wait.until(lambda driver: len(driver.find_elements(By.CLASS_NAME, 'JobCard_title__ddkwM')) > num_elements_before_scroll)\n",
    "    except TimeoutException as ex:\n",
    "        break\n",
    "\n",
    "    job_title_elements = driver.find_elements(By.CLASS_NAME, 'JobCard_title__ddkwM')\n",
    "    num_elements_before_scroll = len(company_name_elements)\n",
    "\n",
    "    if num_elements_before_scroll >= 20:  \n",
    "        break\n",
    "\n",
    "job_titles = []\n",
    "\n",
    "for i, element in enumerate(job_title_elements):\n",
    "    # simple_names 리스트에서 현재 인덱스에 해당하는 값 가져오기\n",
    "    simple_name = simple_names[min(i, len(simple_names)-1)]\n",
    "\n",
    "    # 만약 값이 '서울'이나 '경기'로 시작하면 추가\n",
    "    if simple_name.startswith('서울') or simple_name.startswith('경기'):\n",
    "        job_titles.append(job_title_elements[i].text.strip())  # 수정된 부분"
   ]
  },
  {
   "cell_type": "code",
   "execution_count": 23,
   "metadata": {},
   "outputs": [],
   "source": [
    "\n",
    "# 기업주소 리스트 초기화\n",
    "address_list = []\n",
    "\n",
    "# href_lists에 있는 각 링크에 대해 처리\n",
    "for url in href_lists:\n",
    "    # 페이지 이동\n",
    "    driver.get(url)\n",
    "\n",
    "    # 스크롤을 아래로 내리는 동작을 반복\n",
    "    while True:\n",
    "        # 현재 페이지의 HTML 가져오기\n",
    "        html = driver.page_source\n",
    "        soup = BeautifulSoup(html, 'html.parser')\n",
    "\n",
    "        # 기업 주소를 포함한 <section> 요소 찾기\n",
    "        address_div = soup.find('section', class_='JobWorkPlace_className__ra6rp')\n",
    "\n",
    "        if address_div:\n",
    "            # <section> 내부의 주소 정보를 찾아서 리스트에 추가\n",
    "            address_items = address_div.find_all('span', class_='body')\n",
    "            address = [address_item.text.strip() for address_item in address_items]\n",
    "\n",
    "            # URL과 해당하는 주소 리스트를 한 리스트에 추가\n",
    "            address_list.append(address)\n",
    "            break  # 주소를 찾았으므로 루프 종료\n",
    "\n",
    "        # 스크롤을 크게 아래로 내림 (300픽셀씩)\n",
    "        driver.execute_script(\"window.scrollBy(0, 300);\")\n",
    "        time.sleep(1)  # 스크롤 후 충분한 시간 대기\n",
    "\n"
   ]
  },
  {
   "cell_type": "code",
   "execution_count": 24,
   "metadata": {},
   "outputs": [
    {
     "name": "stdout",
     "output_type": "stream",
     "text": [
      "['서울시 강남구 논현로 417 화원빌딩 4, 5층']\n",
      "\n",
      "1\n"
     ]
    }
   ],
   "source": [
    "# address_list에 있는 각 기업주소에 대해 처리\n",
    "for i in range(len(address_list)):\n",
    "    # 첫 번째 요소를 제외한 나머지 주소로 갱신\n",
    "    address_list[i] = address_list[i][1:]\n",
    "\n",
    "# 리스트 출력\n",
    "for address in address_list:\n",
    "    print(f'{address}\\n')\n",
    "\n",
    "print(len(address_list))"
   ]
  },
  {
   "cell_type": "code",
   "execution_count": 25,
   "metadata": {},
   "outputs": [
    {
     "name": "stdout",
     "output_type": "stream",
     "text": [
      "['-']\n",
      "\n",
      "1\n"
     ]
    }
   ],
   "source": [
    "#연봉\n",
    "salary_list = []\n",
    "\n",
    "# href_lists에 있는 각 링크에 대해 처리\n",
    "for url in href_lists:\n",
    "    # 페이지 이동\n",
    "    driver.get(url)\n",
    "\n",
    "\n",
    "    while True:\n",
    "        # 현재 페이지의 HTML 가져오기\n",
    "        html = driver.page_source\n",
    "        soup = BeautifulSoup(html, 'html.parser')\n",
    "\n",
    "        # 기술 스택을 포함한 <div> 요소 찾기\n",
    "        salary_div = soup.find('div', class_='Tags_tagsClass__mvehZ')\n",
    "\n",
    "        if salary_div:\n",
    "            salary_items = salary_div.find_all('li')\n",
    "            first_li = salary_items[0] if salary_items else None\n",
    "\n",
    "            if first_li and \"연봉\" in first_li.text:\n",
    "                salaries = [salary_item.text.strip().replace(\"#\", \"\") for salary_item in salary_items]\n",
    "                salary_list.append(salaries[0])\n",
    "                break\n",
    "            else:\n",
    "                salary_list.append([\"-\"])\n",
    "                break\n",
    "\n",
    "\n",
    "     \n",
    "# 리스트 출력\n",
    "for i in salary_list:\n",
    "    print(f'{i}\\n')\n",
    "\n",
    "print(len(salary_list))"
   ]
  },
  {
   "cell_type": "code",
   "execution_count": 26,
   "metadata": {},
   "outputs": [
    {
     "name": "stdout",
     "output_type": "stream",
     "text": [
      "3년 이상의 S/W 개발 경험 (분야 무관)다양한 프로그래밍 언어를 자유롭게 활용 가능하신 분새로운 도메인에 대한 학습 능력 및 문제해결 역량을 갖추신 분주어진 문제를 풀기 위해 사업팀과 소통하며 고객을 위한 공학적인 의사 결정을 주도적으로 하실 수 있는 분\n",
      "\n",
      "1\n"
     ]
    }
   ],
   "source": [
    "# 자격요건 텍스트를 저장할 리스트 초기화\n",
    "qualifications_list = []\n",
    "\n",
    "# href_lists에 있는 각 링크에 대해 처리\n",
    "for url in href_lists:\n",
    "    driver.get(url)\n",
    "\n",
    "    # 스크롤을 아래로 내리는 동작을 반복\n",
    "    while True:\n",
    "        # 현재 페이지의 HTML 가져오기\n",
    "        html = driver.page_source\n",
    "        soup = BeautifulSoup(html, 'html.parser')\n",
    "\n",
    "        # \"자격요건\" 부분을 추출\n",
    "        qualifications_header = soup.find('h3', string='자격요건')\n",
    "\n",
    "        if qualifications_header:\n",
    "            # \"자격요건\" 부분이 포함된 <span> 요소 찾기\n",
    "            qualifications_span = qualifications_header.find_next('p').find('span')\n",
    "\n",
    "            if qualifications_span:\n",
    "                # <span> 요소에서 텍스트 추출\n",
    "                qualifications_text = qualifications_span.get_text(strip=True)\n",
    "                # 리스트에 자격요건 추가\n",
    "                qualifications_list.append(qualifications_text)\n",
    "                break  # 자격요건을 찾았으므로 루프 종료\n",
    "            else:\n",
    "                print('자격요건이 포함된 <span> 요소를 찾을 수 없습니다.')\n",
    "        else:\n",
    "            # 스크롤을 계속해서 아래로 내림\n",
    "            driver.find_element_by_tag_name('body').send_keys(Keys.PAGE_DOWN)\n",
    "\n",
    "for qualifications in qualifications_list:\n",
    "    print(f'{qualifications}\\n')\n",
    "\n",
    "print(len(qualifications_list))"
   ]
  },
  {
   "cell_type": "code",
   "execution_count": 27,
   "metadata": {},
   "outputs": [
    {
     "name": "stdout",
     "output_type": "stream",
     "text": [
      "AI 드론을 원격에서 관리하는 관제 S/W 개발\n",
      "\n",
      "1\n"
     ]
    }
   ],
   "source": [
    "#담당업무\n",
    "work_list = []\n",
    "\n",
    "# href_lists에 있는 각 링크에 대해 처리\n",
    "for url in href_lists:\n",
    "    driver.get(url)\n",
    "\n",
    "    # 스크롤을 아래로 내리는 동작을 반복\n",
    "    while True:\n",
    "        # 현재 페이지의 HTML 가져오기\n",
    "        html = driver.page_source\n",
    "        soup = BeautifulSoup(html, 'html.parser')\n",
    "\n",
    "        # \"주요업무\" 부분을 추출\n",
    "        work_header = soup.find('h3', string='주요업무')\n",
    "\n",
    "        if work_header:\n",
    "            work_span = work_header.find_next('p').find('span')\n",
    "\n",
    "            if work_span:\n",
    "                # <span> 요소에서 텍스트 추출\n",
    "                work_text = work_span.get_text(strip=True)\n",
    "                work_list.append(work_text)\n",
    "                break  \n",
    "            else:\n",
    "                print('담당업무가 포함된 <span> 요소를 찾을 수 없습니다.')\n",
    "        else:\n",
    "            # 스크롤을 계속해서 아래로 내림\n",
    "            driver.find_element_by_tag_name('body').send_keys(Keys.PAGE_DOWN)\n",
    "\n",
    "for work in work_list:\n",
    "    print(f'{work}\\n')\n",
    "\n",
    "print(len(work_list))"
   ]
  },
  {
   "cell_type": "code",
   "execution_count": 28,
   "metadata": {},
   "outputs": [
    {
     "name": "stdout",
     "output_type": "stream",
     "text": [
      "H/W를 원격에서 모니터링하고 제어하는 S/W 개발 경험자스타트업 경험자【 고용형태 】• 정규직 (수습기간 3개월 포함)【 채용절차 】• 서류전형 코딩테스트 1,2차 면접  최종합격• 지원서 : 자유양식• 그 외 포트폴리오 등 업무역량을 알 수 있는 자료가 있다면 자유롭게 보내주세요:-)• 최종합격 전 처우 협의가 진행됩니다.• 각 절차별 합격자에 한해 다음 절차가 진행됩니다.\n",
      "\n",
      "1\n"
     ]
    }
   ],
   "source": [
    "#우대사항\n",
    "preferential_list = []\n",
    "\n",
    "# href_lists에 있는 각 링크에 대해 처리\n",
    "for url in href_lists:\n",
    "    driver.get(url)\n",
    "\n",
    "    # 스크롤을 아래로 내리는 동작을 반복\n",
    "    while True:\n",
    "        # 현재 페이지의 HTML 가져오기\n",
    "        html = driver.page_source\n",
    "        soup = BeautifulSoup(html, 'html.parser')\n",
    "\n",
    "        # \"주요업무\" 부분을 추출\n",
    "        preferential_header = soup.find('h3', string='우대사항')\n",
    "\n",
    "        if preferential_header:\n",
    "            preferential_span = preferential_header.find_next('p').find('span')\n",
    "\n",
    "            if preferential_span:\n",
    "                # <span> 요소에서 텍스트 추출\n",
    "                preferential_text = preferential_span.get_text(strip=True)\n",
    "                preferential_list.append(preferential_text)\n",
    "                break  \n",
    "            else:\n",
    "                print('우대사항이 포함된 <span> 요소를 찾을 수 없습니다.')\n",
    "        else:\n",
    "            # 스크롤을 계속해서 아래로 내림\n",
    "            driver.find_element_by_tag_name('body').send_keys(Keys.PAGE_DOWN)\n",
    "\n",
    "for preferential in preferential_list:\n",
    "    print(f'{preferential}\\n')\n",
    "\n",
    "print(len(preferential_list))"
   ]
  },
  {
   "cell_type": "code",
   "execution_count": 14,
   "metadata": {},
   "outputs": [],
   "source": [
    "driver.quit()"
   ]
  },
  {
   "cell_type": "code",
   "execution_count": 31,
   "metadata": {},
   "outputs": [
    {
     "name": "stdout",
     "output_type": "stream",
     "text": [
      "3년 이상의 S/W 개발 경험 (분야 무관)다양한 프로그래밍 언어를 자유롭게 활용 가능하신 분새로운 도메인에 대한 학습 능력 및 문제해결 역량을 갖추신 분주어진 문제를 풀기 위해 사업팀과 소통하며 고객을 위한 공학적인 의사 결정을 주도적으로 하실 수 있는 분H/W를 원격에서 모니터링하고 제어하는 S/W 개발 경험자스타트업 경험자【 고용형태 】• 정규직 (수습기간 3개월 포함)【 채용절차 】• 서류전형 코딩테스트 1,2차 면접  최종합격• 지원서 : 자유양식• 그 외 포트폴리오 등 업무역량을 알 수 있는 자료가 있다면 자유롭게 보내주세요:-)• 최종합격 전 처우 협의가 진행됩니다.• 각 절차별 합격자에 한해 다음 절차가 진행됩니다.AI 드론을 원격에서 관리하는 관제 S/W 개발\n"
     ]
    }
   ],
   "source": [
    "# 같은 인덱스끼리 합치기(자격요건 + 우대사항 + 담당업무)\n",
    "required_list = [qual + pref + work for qual, pref, work in zip(qualifications_list, preferential_list, work_list)]\n",
    "for item in required_list:\n",
    "    print(item)"
   ]
  },
  {
   "cell_type": "code",
   "execution_count": 32,
   "metadata": {},
   "outputs": [
    {
     "name": "stdout",
     "output_type": "stream",
     "text": [
      "1\n",
      "['드론']\n"
     ]
    }
   ],
   "source": [
    "keyword_list = [\"드론\"] * len(company_names)\n",
    "\n",
    "print(len(keyword_list))\n",
    "print(keyword_list)"
   ]
  },
  {
   "cell_type": "code",
   "execution_count": 33,
   "metadata": {},
   "outputs": [
    {
     "data": {
      "text/html": [
       "<div>\n",
       "<style scoped>\n",
       "    .dataframe tbody tr th:only-of-type {\n",
       "        vertical-align: middle;\n",
       "    }\n",
       "\n",
       "    .dataframe tbody tr th {\n",
       "        vertical-align: top;\n",
       "    }\n",
       "\n",
       "    .dataframe thead th {\n",
       "        text-align: right;\n",
       "    }\n",
       "</style>\n",
       "<table border=\"1\" class=\"dataframe\">\n",
       "  <thead>\n",
       "    <tr style=\"text-align: right;\">\n",
       "      <th></th>\n",
       "      <th>기업이름</th>\n",
       "      <th>연봉</th>\n",
       "      <th>기업주소</th>\n",
       "      <th>키워드</th>\n",
       "      <th>담당업무</th>\n",
       "      <th>필요역량</th>\n",
       "    </tr>\n",
       "  </thead>\n",
       "  <tbody>\n",
       "    <tr>\n",
       "      <th>0</th>\n",
       "      <td>니어스랩</td>\n",
       "      <td>[-]</td>\n",
       "      <td>[서울시 강남구 논현로 417 화원빌딩 4, 5층]</td>\n",
       "      <td>드론</td>\n",
       "      <td>소프트웨어 엔지니어 팀장 (드론 원격 관제 S/W 개발)</td>\n",
       "      <td>3년 이상의 S/W 개발 경험 (분야 무관)다양한 프로그래밍 언어를 자유롭게 활용 ...</td>\n",
       "    </tr>\n",
       "  </tbody>\n",
       "</table>\n",
       "</div>"
      ],
      "text/plain": [
       "   기업이름   연봉                          기업주소 키워드  \\\n",
       "0  니어스랩  [-]  [서울시 강남구 논현로 417 화원빌딩 4, 5층]  드론   \n",
       "\n",
       "                              담당업무  \\\n",
       "0  소프트웨어 엔지니어 팀장 (드론 원격 관제 S/W 개발)   \n",
       "\n",
       "                                                필요역량  \n",
       "0  3년 이상의 S/W 개발 경험 (분야 무관)다양한 프로그래밍 언어를 자유롭게 활용 ...  "
      ]
     },
     "execution_count": 33,
     "metadata": {},
     "output_type": "execute_result"
    }
   ],
   "source": [
    "import pandas as pd\n",
    "# 데이터프레임 생성\n",
    "data = {\n",
    "    '기업이름': company_names,\n",
    "    '연봉': salary_list,\n",
    "    '기업주소': address_list,\n",
    "    '키워드': keyword_list,\n",
    "    '담당업무': job_titles,\n",
    "    '필요역량': required_list\n",
    "}\n",
    "df = pd.DataFrame(data)\n",
    "# 데이터프레임 출력\n",
    "df.head()"
   ]
  },
  {
   "cell_type": "code",
   "execution_count": 34,
   "metadata": {},
   "outputs": [
    {
     "data": {
      "text/html": [
       "<div>\n",
       "<style scoped>\n",
       "    .dataframe tbody tr th:only-of-type {\n",
       "        vertical-align: middle;\n",
       "    }\n",
       "\n",
       "    .dataframe tbody tr th {\n",
       "        vertical-align: top;\n",
       "    }\n",
       "\n",
       "    .dataframe thead th {\n",
       "        text-align: right;\n",
       "    }\n",
       "</style>\n",
       "<table border=\"1\" class=\"dataframe\">\n",
       "  <thead>\n",
       "    <tr style=\"text-align: right;\">\n",
       "      <th></th>\n",
       "      <th>기업이름</th>\n",
       "      <th>연봉</th>\n",
       "      <th>기업주소</th>\n",
       "      <th>키워드</th>\n",
       "      <th>담당업무</th>\n",
       "      <th>필요역량</th>\n",
       "    </tr>\n",
       "  </thead>\n",
       "  <tbody>\n",
       "    <tr>\n",
       "      <th>0</th>\n",
       "      <td>니어스랩</td>\n",
       "      <td>-</td>\n",
       "      <td>서울시 강남구 논현로 417 화원빌딩 4, 5층</td>\n",
       "      <td>드론</td>\n",
       "      <td>소프트웨어 엔지니어 팀장 (드론 원격 관제 S/W 개발)</td>\n",
       "      <td>3년 이상의 S/W 개발 경험 (분야 무관)다양한 프로그래밍 언어를 자유롭게 활용 ...</td>\n",
       "    </tr>\n",
       "  </tbody>\n",
       "</table>\n",
       "</div>"
      ],
      "text/plain": [
       "   기업이름 연봉                        기업주소 키워드                             담당업무  \\\n",
       "0  니어스랩  -  서울시 강남구 논현로 417 화원빌딩 4, 5층  드론  소프트웨어 엔지니어 팀장 (드론 원격 관제 S/W 개발)   \n",
       "\n",
       "                                                필요역량  \n",
       "0  3년 이상의 S/W 개발 경험 (분야 무관)다양한 프로그래밍 언어를 자유롭게 활용 ...  "
      ]
     },
     "execution_count": 34,
     "metadata": {},
     "output_type": "execute_result"
    }
   ],
   "source": [
    "# • 문자를 ,으로 바꾸기\n",
    "df['담당업무'] = df['담당업무'].str.replace('•', ',')\n",
    "df['필요역량'] = df['필요역량'].str.replace('•', ',')\n",
    "\n",
    "# 작은 따옴표 및 괄호 제거\n",
    "df['연봉'] = df['연봉'].astype(str).str.replace('[', '').str.replace(']', '').str.strip(\"'\")\n",
    "df['기업주소'] = df['기업주소'].astype(str).str.replace('[', '').str.replace(']', '').str.strip(\"'\")\n",
    "df.head()"
   ]
  },
  {
   "cell_type": "code",
   "execution_count": 35,
   "metadata": {},
   "outputs": [
    {
     "name": "stdout",
     "output_type": "stream",
     "text": [
      "<class 'pandas.core.frame.DataFrame'>\n",
      "RangeIndex: 1 entries, 0 to 0\n",
      "Data columns (total 6 columns):\n",
      " #   Column  Non-Null Count  Dtype \n",
      "---  ------  --------------  ----- \n",
      " 0   기업이름    1 non-null      object\n",
      " 1   연봉      1 non-null      object\n",
      " 2   기업주소    1 non-null      object\n",
      " 3   키워드     1 non-null      object\n",
      " 4   담당업무    1 non-null      object\n",
      " 5   필요역량    1 non-null      object\n",
      "dtypes: object(6)\n",
      "memory usage: 176.0+ bytes\n"
     ]
    }
   ],
   "source": [
    "df.info()"
   ]
  },
  {
   "cell_type": "code",
   "execution_count": 36,
   "metadata": {},
   "outputs": [
    {
     "name": "stdout",
     "output_type": "stream",
     "text": [
      "  고용형태\n",
      "0   3년\n"
     ]
    }
   ],
   "source": [
    "import re\n",
    "\n",
    "# 경력 정보 추출을 위한 정규표현식\n",
    "career_pattern = re.compile(r'(\\d+년.*?)')\n",
    "\n",
    "# DataFrame의 각 행에 대해 경력 정보 추출 및 새로운 열에 추가\n",
    "df['고용형태'] = df['필요역량'].apply(lambda x: career_pattern.findall(x)[0] if career_pattern.findall(x) else '-')\n",
    "\n",
    "# 결과 출력\n",
    "print(df[['고용형태']])"
   ]
  },
  {
   "cell_type": "code",
   "execution_count": 37,
   "metadata": {},
   "outputs": [],
   "source": [
    "df = df[['기업이름','고용형태','연봉','기업주소','키워드','담당업무','필요역량' ]]"
   ]
  },
  {
   "cell_type": "code",
   "execution_count": 38,
   "metadata": {},
   "outputs": [
    {
     "data": {
      "text/html": [
       "<div>\n",
       "<style scoped>\n",
       "    .dataframe tbody tr th:only-of-type {\n",
       "        vertical-align: middle;\n",
       "    }\n",
       "\n",
       "    .dataframe tbody tr th {\n",
       "        vertical-align: top;\n",
       "    }\n",
       "\n",
       "    .dataframe thead th {\n",
       "        text-align: right;\n",
       "    }\n",
       "</style>\n",
       "<table border=\"1\" class=\"dataframe\">\n",
       "  <thead>\n",
       "    <tr style=\"text-align: right;\">\n",
       "      <th></th>\n",
       "      <th>기업이름</th>\n",
       "      <th>고용형태</th>\n",
       "      <th>연봉</th>\n",
       "      <th>기업주소</th>\n",
       "      <th>키워드</th>\n",
       "      <th>담당업무</th>\n",
       "      <th>필요역량</th>\n",
       "    </tr>\n",
       "  </thead>\n",
       "  <tbody>\n",
       "    <tr>\n",
       "      <th>0</th>\n",
       "      <td>니어스랩</td>\n",
       "      <td>3년</td>\n",
       "      <td>-</td>\n",
       "      <td>서울시 강남구 논현로 417 화원빌딩 4, 5층</td>\n",
       "      <td>드론</td>\n",
       "      <td>소프트웨어 엔지니어 팀장 (드론 원격 관제 S/W 개발)</td>\n",
       "      <td>3년 이상의 S/W 개발 경험 (분야 무관)다양한 프로그래밍 언어를 자유롭게 활용 ...</td>\n",
       "    </tr>\n",
       "  </tbody>\n",
       "</table>\n",
       "</div>"
      ],
      "text/plain": [
       "   기업이름 고용형태 연봉                        기업주소 키워드  \\\n",
       "0  니어스랩   3년  -  서울시 강남구 논현로 417 화원빌딩 4, 5층  드론   \n",
       "\n",
       "                              담당업무  \\\n",
       "0  소프트웨어 엔지니어 팀장 (드론 원격 관제 S/W 개발)   \n",
       "\n",
       "                                                필요역량  \n",
       "0  3년 이상의 S/W 개발 경험 (분야 무관)다양한 프로그래밍 언어를 자유롭게 활용 ...  "
      ]
     },
     "execution_count": 38,
     "metadata": {},
     "output_type": "execute_result"
    }
   ],
   "source": [
    "df.head()"
   ]
  },
  {
   "cell_type": "code",
   "execution_count": 39,
   "metadata": {},
   "outputs": [],
   "source": [
    "import csv\n",
    "\n",
    "df.to_csv('output1.csv', index=False)"
   ]
  }
 ],
 "metadata": {
  "kernelspec": {
   "display_name": "eda_venv",
   "language": "python",
   "name": "python3"
  },
  "language_info": {
   "codemirror_mode": {
    "name": "ipython",
    "version": 3
   },
   "file_extension": ".py",
   "mimetype": "text/x-python",
   "name": "python",
   "nbconvert_exporter": "python",
   "pygments_lexer": "ipython3",
   "version": "3.10.12"
  }
 },
 "nbformat": 4,
 "nbformat_minor": 2
}
