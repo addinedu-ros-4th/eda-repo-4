{
 "cells": [
  {
   "cell_type": "markdown",
   "metadata": {},
   "source": [
    "# <center> 1차 크롤링 - <원티드> </center>"
   ]
  },
  {
   "cell_type": "markdown",
   "metadata": {},
   "source": [
    "* 기업이름\n",
    "* 각 기업들 모집 링크"
   ]
  },
  {
   "cell_type": "code",
   "execution_count": 1,
   "metadata": {},
   "outputs": [],
   "source": [
    "from tqdm.notebook import tqdm\n",
    "from selenium.webdriver.common.keys import Keys\n",
    "from selenium.webdriver.support.wait import WebDriverWait\n",
    "from selenium.webdriver.support import expected_conditions as EC\n",
    "from selenium.webdriver.common.action_chains import ActionChains\n",
    "from selenium import webdriver\n",
    "from selenium.webdriver.chrome.service import Service\n",
    "from selenium.webdriver.chrome.options import Options\n",
    "from selenium.webdriver.common.by import By\n",
    "import time\n",
    "from bs4 import BeautifulSoup\n",
    "from urllib.request import urlopen\n",
    "from urllib.request import Request\n",
    "import urllib"
   ]
  },
  {
   "cell_type": "code",
   "execution_count": 2,
   "metadata": {},
   "outputs": [],
   "source": [
    "options = webdriver.ChromeOptions()\n",
    "\n",
    "url = \"https://www.wanted.co.kr/jobsfeed\"\n",
    "driver = webdriver.Chrome(service=Service(\"../../driver/chromedriver\"),\n",
    "                          options=options)\n",
    "\n",
    "driver.get(url)"
   ]
  },
  {
   "cell_type": "code",
   "execution_count": 3,
   "metadata": {},
   "outputs": [],
   "source": [
    "driver.get(url)"
   ]
  },
  {
   "cell_type": "code",
   "execution_count": 4,
   "metadata": {},
   "outputs": [],
   "source": [
    "#네비게이션바에서 검색버튼 클릭\n",
    "nav_element = driver.find_element(By.CLASS_NAME, \"Aside_asideList__3WNyu\")\n",
    "search_element = nav_element.find_element(By.CLASS_NAME, \"SvgIcon_SvgIcon__root__8vwon\")\n",
    "\n",
    "search_element.click()"
   ]
  },
  {
   "cell_type": "code",
   "execution_count": 5,
   "metadata": {},
   "outputs": [],
   "source": [
    "#검색 창에서 자율주행 검색\n",
    "search_doc = driver.find_element(By.CLASS_NAME, \"SearchInput_SearchInput__gySrv\")\n",
    "search_doc.send_keys('자율주행')\n",
    "search_doc.send_keys(Keys.ENTER)"
   ]
  },
  {
   "cell_type": "code",
   "execution_count": 6,
   "metadata": {},
   "outputs": [],
   "source": [
    "#포지션 탭으로 이동\n",
    "wait = WebDriverWait(driver, 10)\n",
    "position_tab = wait.until(EC.element_to_be_clickable((By.XPATH, '//*[contains(text(), \"포지션\")]')))\n",
    "position_tab.click()"
   ]
  },
  {
   "cell_type": "code",
   "execution_count": 17,
   "metadata": {},
   "outputs": [
    {
     "name": "stdout",
     "output_type": "stream",
     "text": [
      "['서울 · 한국', '서울 · 한국', '서울 · 한국', '경기 · 한국', '경기 · 한국', '서울 · 한국', '경북 · 한국', '경기 · 한국', '서울 · 한국', '경기 · 한국', '서울 · 한국', '서울 · 한국', '경기 · 한국', '경기 · 한국', '경기 · 한국', '경기 · 한국', '서울 · 한국', '경기 · 한국', '서울 · 한국', '서울 · 한국', '서울 · 한국', '경기 · 한국', '경기 · 한국']\n",
      "23\n"
     ]
    }
   ],
   "source": [
    "#서울, 경기 필터링(원티드 사이트 selenium으로 필터 적용시에 로그인창이 떠 부득이하게 바꿈)\n",
    "simple_list = []\n",
    "wait = WebDriverWait(driver, 10)  \n",
    "simple_name_elements = []  \n",
    "\n",
    "while True:\n",
    "    driver.execute_script(\"window.scrollTo(0, document.body.scrollHeight);\")\n",
    "    time.sleep(2)\n",
    "\n",
    "    try:\n",
    "        wait.until(lambda driver: len(driver.find_elements(By.CLASS_NAME, 'JobCard_location__2EOr5')) > len(simple_name_elements))\n",
    "    except TimeoutException:\n",
    "        break\n",
    "\n",
    "    new_elements = driver.find_elements(By.CLASS_NAME, 'JobCard_location__2EOr5')\n",
    "    simple_name_elements.extend(new_elements)\n",
    "\n",
    "    # StaleElementReferenceException을 처리하기 위해 엘리먼트 수의 변경을 확인\n",
    "    try:\n",
    "        wait.until(lambda driver: len(driver.find_elements(By.CLASS_NAME, 'JobCard_location__2EOr5')) > len(simple_name_elements))\n",
    "    except TimeoutException:\n",
    "        break\n",
    "\n",
    "    if len(simple_name_elements) >= 20:\n",
    "        break\n",
    "\n",
    "# 기업 이름 추출 및 출력\n",
    "simple_names = [element.text.strip() for element in simple_name_elements]\n",
    "simple_names = simple_names[8:]\n",
    "print(simple_names)\n",
    "print(len(simple_names))"
   ]
  },
  {
   "cell_type": "code",
   "execution_count": 18,
   "metadata": {},
   "outputs": [
    {
     "name": "stdout",
     "output_type": "stream",
     "text": [
      "회사 정보 리스트: ['컨트롤웍스', '뷰런테크놀로지', '베스텔라랩', '씨엔비스', '엑스와이지', '폴라리스쓰리디(Polaris3D)', '에스티피씨', '마스오토', '슈어소프트테크', '알지티', '컨트롤웍스', '슈어소프트테크', '에이모(AIMMO)', '클로봇', '긴트', '뷰런테크놀로지', '에스티피씨', '포티투닷(42dot)', '포티투닷(42dot)', '포티투닷(42dot)', '에스티피씨', '에스티피씨']\n",
      "href 리스트: ['https://www.wanted.co.kr/wd/190898', 'https://www.wanted.co.kr/wd/199355', 'https://www.wanted.co.kr/wd/111438', 'https://www.wanted.co.kr/wd/196842', 'https://www.wanted.co.kr/wd/199578', 'https://www.wanted.co.kr/wd/183467', 'https://www.wanted.co.kr/wd/189189', 'https://www.wanted.co.kr/wd/198840', 'https://www.wanted.co.kr/wd/198898', 'https://www.wanted.co.kr/wd/182743', 'https://www.wanted.co.kr/wd/190899', 'https://www.wanted.co.kr/wd/198922', 'https://www.wanted.co.kr/wd/132158', 'https://www.wanted.co.kr/wd/162533', 'https://www.wanted.co.kr/wd/141290', 'https://www.wanted.co.kr/wd/199350', 'https://www.wanted.co.kr/wd/169773', 'https://www.wanted.co.kr/wd/150909', 'https://www.wanted.co.kr/wd/118630', 'https://www.wanted.co.kr/wd/140554', 'https://www.wanted.co.kr/wd/75521', 'https://www.wanted.co.kr/wd/110123']\n",
      "22\n",
      "22\n"
     ]
    }
   ],
   "source": [
    "from selenium.webdriver.common.action_chains import ActionChains\n",
    "from selenium.common.exceptions import TimeoutException\n",
    "\n",
    "# 기업이름 요소 초기 로드\n",
    "company_name_elements = driver.find_elements(By.CLASS_NAME, 'JobCard_companyName__vZMqJ')\n",
    "num_elements_before_scroll = len(company_name_elements)\n",
    "\n",
    "while True:\n",
    "    # 페이지 스크롤\n",
    "    driver.execute_script(\"window.scrollTo(0, document.body.scrollHeight);\")\n",
    "    time.sleep(2) \n",
    "\n",
    "    try:\n",
    "        # 새로운 회사명 요소들이 로드될 때까지 대기 (타임아웃 10초)\n",
    "        wait.until(lambda driver: len(driver.find_elements(By.CLASS_NAME, 'JobCard_companyName__vZMqJ')) > num_elements_before_scroll)\n",
    "    except TimeoutException as ex:\n",
    "        break\n",
    "\n",
    "    # 현재 로드된 회사명 요소들 가져오기\n",
    "    company_name_elements = driver.find_elements(By.CLASS_NAME, 'JobCard_companyName__vZMqJ')\n",
    "    num_elements_before_scroll = len(company_name_elements)\n",
    "\n",
    "    if num_elements_before_scroll >= 20:  \n",
    "        break\n",
    "\n",
    "\n",
    "company_names = []\n",
    "href_lists = []\n",
    "\n",
    "href_elements = driver.find_elements(By.CSS_SELECTOR, 'a[data-attribute-id=\"position__click\"]')\n",
    "\n",
    "for i, element in enumerate(company_name_elements):\n",
    "    # simple_names 리스트에서 현재 인덱스에 해당하는 값 가져오기\n",
    "    simple_name = simple_names[min(i, len(simple_names)-1)]\n",
    "\n",
    "    # 만약 값이 '서울'이나 '경기'로 시작하면 추가\n",
    "    if simple_name.startswith('서울') or simple_name.startswith('경기'):\n",
    "        company_names.append(element.text.strip())\n",
    "        \n",
    "        # 현재 인덱스에 해당하는 href 값 가져오기\n",
    "\n",
    "        href_value = href_elements[i].get_attribute('href')\n",
    "        href_lists.append(href_value)\n",
    "      \n",
    "\n",
    "company_names = company_names[8:]\n",
    "href_lists = href_lists[8:]\n",
    "print(f'회사 정보 리스트: {company_names}')\n",
    "print(f'href 리스트: {href_lists}')\n",
    "\n",
    "print(len(company_names))\n",
    "print(len(href_lists))"
   ]
  },
  {
   "cell_type": "code",
   "execution_count": 19,
   "metadata": {},
   "outputs": [],
   "source": [
    "driver.quit()"
   ]
  }
 ],
 "metadata": {
  "kernelspec": {
   "display_name": "eda_venv",
   "language": "python",
   "name": "python3"
  },
  "language_info": {
   "codemirror_mode": {
    "name": "ipython",
    "version": 3
   },
   "file_extension": ".py",
   "mimetype": "text/x-python",
   "name": "python",
   "nbconvert_exporter": "python",
   "pygments_lexer": "ipython3",
   "version": "3.10.12"
  }
 },
 "nbformat": 4,
 "nbformat_minor": 2
}
