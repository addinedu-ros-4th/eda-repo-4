{
 "cells": [
  {
   "cell_type": "code",
   "execution_count": 1,
   "metadata": {},
   "outputs": [
    {
     "ename": "SyntaxError",
     "evalue": "invalid syntax (3014924333.py, line 12)",
     "output_type": "error",
     "traceback": [
      "\u001b[0;36m  Cell \u001b[0;32mIn[1], line 12\u001b[0;36m\u001b[0m\n\u001b[0;31m    ---\u001b[0m\n\u001b[0m       ^\u001b[0m\n\u001b[0;31mSyntaxError\u001b[0m\u001b[0;31m:\u001b[0m invalid syntax\n"
     ]
    }
   ],
   "source": [
    "import mysql.connector\n",
    "\n",
    "conn = mysql.connector.connect(\n",
    "    host = \"\",\n",
    "    port = ,\n",
    "    user = \"\",\n",
    "    password = \"\",\n",
    "    database = \"\"\n",
    ")\n",
    "cursor = conn.cursor(buffered=True)\n",
    "\n",
    "import pandas as pd\n",
    "\n",
    "df = pd.read_csv(\"../../../data/eda_project_data/인크루트/AutonomousVehicles_syt.csv\")#각자 파일 주소\n",
    "df.head()\n",
    "\n",
    "# 값 가져오기\n",
    "for index, row in df.iterrows():\n",
    "    insert_query = \"\"\"\n",
    "    INSERT INTO project_merge (`기업이름`, `고용형태`, `연봉`, `기업주소`, `키워드`, `담당업무`, `필요역량`)\n",
    "    VALUES (%s, %s, %s, %s, %s, %s, %s);\n",
    "    \"\"\"\n",
    "    cursor.execute(insert_query, (\n",
    "        row['기업이름'], row['고용형태'], row['연봉'], row['기업주소'],\n",
    "        row['키워드'], row['담당업무'], row['필요역량']\n",
    "    ))\n",
    "\n",
    "cursor.execute(\"ALTER TABLE cor_growth ADD COLUMN 인덱스 INT;\")\n",
    "\n",
    "cursor.execute(\"SET @index = 0;\")\n",
    "cursor.execute(\"UPDATE cor_growth SET `인덱스` = @index:=@index+1;\")\n",
    "\n",
    "conn.commit()"
   ]
  }
 ],
 "metadata": {
  "kernelspec": {
   "display_name": "eda_venv",
   "language": "python",
   "name": "python3"
  },
  "language_info": {
   "codemirror_mode": {
    "name": "ipython",
    "version": 3
   },
   "file_extension": ".py",
   "mimetype": "text/x-python",
   "name": "python",
   "nbconvert_exporter": "python",
   "pygments_lexer": "ipython3",
   "version": "3.10.12"
  }
 },
 "nbformat": 4,
 "nbformat_minor": 2
}
