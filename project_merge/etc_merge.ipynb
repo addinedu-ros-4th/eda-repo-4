{
 "cells": [
  {
   "cell_type": "markdown",
   "metadata": {},
   "source": [
    "##### 데이터 가져오기(사람인)"
   ]
  },
  {
   "cell_type": "code",
   "execution_count": 35,
   "metadata": {},
   "outputs": [
    {
     "data": {
      "text/html": [
       "<div>\n",
       "<style scoped>\n",
       "    .dataframe tbody tr th:only-of-type {\n",
       "        vertical-align: middle;\n",
       "    }\n",
       "\n",
       "    .dataframe tbody tr th {\n",
       "        vertical-align: top;\n",
       "    }\n",
       "\n",
       "    .dataframe thead th {\n",
       "        text-align: right;\n",
       "    }\n",
       "</style>\n",
       "<table border=\"1\" class=\"dataframe\">\n",
       "  <thead>\n",
       "    <tr style=\"text-align: right;\">\n",
       "      <th></th>\n",
       "      <th>기업이름</th>\n",
       "      <th>고용형태</th>\n",
       "      <th>연봉</th>\n",
       "      <th>기업주소</th>\n",
       "      <th>키워드</th>\n",
       "      <th>기업형태</th>\n",
       "      <th>사원수</th>\n",
       "      <th>매출액</th>\n",
       "    </tr>\n",
       "  </thead>\n",
       "  <tbody>\n",
       "    <tr>\n",
       "      <th>0</th>\n",
       "      <td>미디어젠(주)</td>\n",
       "      <td>신입 · 경력 · 정규직</td>\n",
       "      <td>면접 후 결정</td>\n",
       "      <td>경기 성남시 분당구 성남대로331번길 8, 11층 1103호</td>\n",
       "      <td>딥러닝</td>\n",
       "      <td>코스닥, 중소기업, 외부감사법인, 연구소..업종응용 소프트웨어 개발 및 공급업</td>\n",
       "      <td>189</td>\n",
       "      <td>-</td>\n",
       "    </tr>\n",
       "    <tr>\n",
       "      <th>1</th>\n",
       "      <td>(주)에스피파트너스</td>\n",
       "      <td>신입 · 경력 · 정규직</td>\n",
       "      <td>면접 후 결정</td>\n",
       "      <td>경북 경산시 펜타힐즈2로 59, 802호</td>\n",
       "      <td>딥러닝</td>\n",
       "      <td>중소기업, 주식회사업종시스템 소프트웨어 개발 및 공급업</td>\n",
       "      <td>22</td>\n",
       "      <td>34억 5,777만</td>\n",
       "    </tr>\n",
       "    <tr>\n",
       "      <th>2</th>\n",
       "      <td>디아이티(주)</td>\n",
       "      <td>신입 · 경력 · 정규직</td>\n",
       "      <td>면접 후 결정</td>\n",
       "      <td>경기 화성시 정남면 가장로 355-26</td>\n",
       "      <td>딥러닝</td>\n",
       "      <td>코스닥, 중소기업, 외부감사법인, 병역특..업종디스플레이 제조용 기계 제조업</td>\n",
       "      <td>194</td>\n",
       "      <td>-</td>\n",
       "    </tr>\n",
       "    <tr>\n",
       "      <th>3</th>\n",
       "      <td>(주)코난테크놀로지</td>\n",
       "      <td>신입 · 경력 · 정규직</td>\n",
       "      <td>회사내규에 따름</td>\n",
       "      <td>서울 서초구 강남대로 327, 6층, 7층, 9층 (서초동,대륭서초타워)</td>\n",
       "      <td>딥러닝</td>\n",
       "      <td>코스닥, 중소기업, 외부감사법인, 주식회..업종응용 소프트웨어 개발 및 공급업</td>\n",
       "      <td>270</td>\n",
       "      <td>-</td>\n",
       "    </tr>\n",
       "    <tr>\n",
       "      <th>4</th>\n",
       "      <td>(주)뷰온</td>\n",
       "      <td>경력무관 · 정규직</td>\n",
       "      <td>면접 후 결정</td>\n",
       "      <td>서울 금천구 가산디지털1로 128, 806호, 807호, 808호</td>\n",
       "      <td>딥러닝</td>\n",
       "      <td>중소기업, 병역특례 인증업체업종기타 광학기기 제조업</td>\n",
       "      <td>43</td>\n",
       "      <td>77억 9,954만</td>\n",
       "    </tr>\n",
       "  </tbody>\n",
       "</table>\n",
       "</div>"
      ],
      "text/plain": [
       "         기업이름           고용형태        연봉  \\\n",
       "0     미디어젠(주)  신입 · 경력 · 정규직   면접 후 결정   \n",
       "1  (주)에스피파트너스  신입 · 경력 · 정규직   면접 후 결정   \n",
       "2     디아이티(주)  신입 · 경력 · 정규직   면접 후 결정   \n",
       "3  (주)코난테크놀로지  신입 · 경력 · 정규직  회사내규에 따름   \n",
       "4       (주)뷰온     경력무관 · 정규직   면접 후 결정   \n",
       "\n",
       "                                       기업주소  키워드  \\\n",
       "0         경기 성남시 분당구 성남대로331번길 8, 11층 1103호  딥러닝   \n",
       "1                    경북 경산시 펜타힐즈2로 59, 802호  딥러닝   \n",
       "2                     경기 화성시 정남면 가장로 355-26  딥러닝   \n",
       "3  서울 서초구 강남대로 327, 6층, 7층, 9층 (서초동,대륭서초타워)  딥러닝   \n",
       "4      서울 금천구 가산디지털1로 128, 806호, 807호, 808호  딥러닝   \n",
       "\n",
       "                                          기업형태  사원수         매출액  \n",
       "0  코스닥, 중소기업, 외부감사법인, 연구소..업종응용 소프트웨어 개발 및 공급업  189           -  \n",
       "1               중소기업, 주식회사업종시스템 소프트웨어 개발 및 공급업   22  34억 5,777만  \n",
       "2   코스닥, 중소기업, 외부감사법인, 병역특..업종디스플레이 제조용 기계 제조업  194           -  \n",
       "3  코스닥, 중소기업, 외부감사법인, 주식회..업종응용 소프트웨어 개발 및 공급업  270           -  \n",
       "4                 중소기업, 병역특례 인증업체업종기타 광학기기 제조업   43  77억 9,954만  "
      ]
     },
     "execution_count": 35,
     "metadata": {},
     "output_type": "execute_result"
    }
   ],
   "source": [
    "import pandas as pd\n",
    "\n",
    "df = pd.read_csv(\"./saramin/saramin_deeplearning.csv\")\n",
    "df.head()"
   ]
  },
  {
   "cell_type": "code",
   "execution_count": 36,
   "metadata": {},
   "outputs": [
    {
     "name": "stdout",
     "output_type": "stream",
     "text": [
      "<class 'pandas.core.frame.DataFrame'>\n",
      "RangeIndex: 829 entries, 0 to 828\n",
      "Data columns (total 8 columns):\n",
      " #   Column  Non-Null Count  Dtype \n",
      "---  ------  --------------  ----- \n",
      " 0   기업이름    829 non-null    object\n",
      " 1   고용형태    829 non-null    object\n",
      " 2   연봉      829 non-null    object\n",
      " 3   기업주소    829 non-null    object\n",
      " 4   키워드     829 non-null    object\n",
      " 5   기업형태    829 non-null    object\n",
      " 6   사원수     829 non-null    object\n",
      " 7   매출액     829 non-null    object\n",
      "dtypes: object(8)\n",
      "memory usage: 51.9+ KB\n"
     ]
    }
   ],
   "source": [
    "df.info()"
   ]
  },
  {
   "cell_type": "code",
   "execution_count": 2,
   "metadata": {},
   "outputs": [],
   "source": [
    "import mysql.connector\n",
    "\n",
    "conn = mysql.connector.connect(\n",
    "    host = \"database-1.c3q2igwk6510.ap-northeast-2.rds.amazonaws.com\",\n",
    "    port = 3306,\n",
    "    user = \"root\",\n",
    "    password = \"20030320\",\n",
    "    database = \"project_merge\"\n",
    ")\n",
    "cursor = conn.cursor(buffered=True)"
   ]
  },
  {
   "cell_type": "code",
   "execution_count": 6,
   "metadata": {},
   "outputs": [],
   "source": [
    "create_table_query = \"\"\"\n",
    "CREATE TABLE saramin (\n",
    "    `기업이름` VARCHAR(50),\n",
    "    `고용형태` VARCHAR(50),\n",
    "    `연봉` VARCHAR(100),\n",
    "    `기업주소` VARCHAR(150),\n",
    "    `키워드` VARCHAR(20),\n",
    "    `기업형태` VARCHAR(200),\n",
    "    `사원수` VARCHAR(20),\n",
    "    `매출액` VARCHAR(30)\n",
    ");\n",
    "\"\"\"\n",
    "cursor.execute(create_table_query)"
   ]
  },
  {
   "cell_type": "code",
   "execution_count": 38,
   "metadata": {},
   "outputs": [],
   "source": [
    "for index, row in df.iterrows():\n",
    "    insert_query = \"\"\"\n",
    "    INSERT INTO saramin (`기업이름`, `고용형태`, `연봉`, `기업주소`, `키워드`, `기업형태`, `사원수`, `매출액`)\n",
    "    VALUES (%s, %s, %s, %s, %s, %s, %s, %s);\n",
    "    \"\"\"\n",
    "    cursor.execute(insert_query, (\n",
    "        row['기업이름'], row['고용형태'], row['연봉'], row['기업주소'],\n",
    "        row['키워드'], row['기업형태'], row['사원수'], row['매출액']\n",
    "    ))"
   ]
  },
  {
   "cell_type": "code",
   "execution_count": null,
   "metadata": {},
   "outputs": [],
   "source": [
    "cursor.execute(\"ALTER TABLE saramin ADD COLUMN 인덱스 INT;\")"
   ]
  },
  {
   "cell_type": "code",
   "execution_count": 39,
   "metadata": {},
   "outputs": [],
   "source": [
    "cursor.execute(\"SET @index = 0;\")\n",
    "cursor.execute(\"UPDATE saramin SET `인덱스` = @index:=@index+1;\")"
   ]
  },
  {
   "cell_type": "code",
   "execution_count": 40,
   "metadata": {},
   "outputs": [
    {
     "name": "stdout",
     "output_type": "stream",
     "text": [
      "('코나모빌리티(주)', '4 ~ 13년 · 정규직', '회사내규에 따름', '서울 영등포구 은행로 3, 901호', '딥러닝', '중소기업, 연구소, 주식회사업종응용 소프트웨어 개발 및 공급업', '34', '-', 1274)\n",
      "('(주)지엔아이티', '3 ~ 10년 · 정규직', '회사내규에 따름', '경기 김포시 고촌읍 장차로5번길 20, 4층', '딥러닝', '중소기업, 주식회사업종시스템 소프트웨어 개발 및 공급업', '25', '-', 1273)\n",
      "('주식회사 마이너', '신입 · 경력 · 정규직', '회사내규에 따름', '서울 관악구 신림로 134', '딥러닝', '-', '-', '-', 1272)\n"
     ]
    }
   ],
   "source": [
    "cursor.execute(\"select * from saramin order by 인덱스 desc limit 3;\")\n",
    "\n",
    "result = cursor.fetchall()\n",
    "for row in result:\n",
    "    print(row)"
   ]
  },
  {
   "cell_type": "code",
   "execution_count": 41,
   "metadata": {},
   "outputs": [],
   "source": [
    "conn.commit()"
   ]
  },
  {
   "cell_type": "markdown",
   "metadata": {},
   "source": [
    "##### 데이터 가져오기 잡플래닛"
   ]
  },
  {
   "cell_type": "code",
   "execution_count": 2,
   "metadata": {},
   "outputs": [
    {
     "data": {
      "text/html": [
       "<div>\n",
       "<style scoped>\n",
       "    .dataframe tbody tr th:only-of-type {\n",
       "        vertical-align: middle;\n",
       "    }\n",
       "\n",
       "    .dataframe tbody tr th {\n",
       "        vertical-align: top;\n",
       "    }\n",
       "\n",
       "    .dataframe thead th {\n",
       "        text-align: right;\n",
       "    }\n",
       "</style>\n",
       "<table border=\"1\" class=\"dataframe\">\n",
       "  <thead>\n",
       "    <tr style=\"text-align: right;\">\n",
       "      <th></th>\n",
       "      <th>기업이름</th>\n",
       "      <th>분야</th>\n",
       "      <th>평점</th>\n",
       "      <th>연봉</th>\n",
       "      <th>2차산업군</th>\n",
       "    </tr>\n",
       "  </thead>\n",
       "  <tbody>\n",
       "    <tr>\n",
       "      <th>0</th>\n",
       "      <td>(주)티몬</td>\n",
       "      <td>IT/웹/통신</td>\n",
       "      <td>2.8</td>\n",
       "      <td>4175</td>\n",
       "      <td>IT</td>\n",
       "    </tr>\n",
       "    <tr>\n",
       "      <th>1</th>\n",
       "      <td>(주)위메프</td>\n",
       "      <td>IT/웹/통신</td>\n",
       "      <td>2.6</td>\n",
       "      <td>3989</td>\n",
       "      <td>IT</td>\n",
       "    </tr>\n",
       "    <tr>\n",
       "      <th>2</th>\n",
       "      <td>(주)엘지유플러스</td>\n",
       "      <td>IT/웹/통신</td>\n",
       "      <td>3.2</td>\n",
       "      <td>4909</td>\n",
       "      <td>IT</td>\n",
       "    </tr>\n",
       "    <tr>\n",
       "      <th>3</th>\n",
       "      <td>삼성에스디에스(주)</td>\n",
       "      <td>IT/웹/통신</td>\n",
       "      <td>3.5</td>\n",
       "      <td>5939</td>\n",
       "      <td>IT</td>\n",
       "    </tr>\n",
       "    <tr>\n",
       "      <th>4</th>\n",
       "      <td>(주)엘지씨엔에스</td>\n",
       "      <td>IT/웹/통신</td>\n",
       "      <td>3.2</td>\n",
       "      <td>5322</td>\n",
       "      <td>IT</td>\n",
       "    </tr>\n",
       "  </tbody>\n",
       "</table>\n",
       "</div>"
      ],
      "text/plain": [
       "          기업이름       분야   평점    연봉 2차산업군\n",
       "0       (주)티몬   IT/웹/통신  2.8  4175    IT\n",
       "1      (주)위메프   IT/웹/통신  2.6  3989    IT\n",
       "2   (주)엘지유플러스   IT/웹/통신  3.2  4909    IT\n",
       "3  삼성에스디에스(주)   IT/웹/통신  3.5  5939    IT\n",
       "4   (주)엘지씨엔에스   IT/웹/통신  3.2  5322    IT"
      ]
     },
     "execution_count": 2,
     "metadata": {},
     "output_type": "execute_result"
    }
   ],
   "source": [
    "import pandas as pd\n",
    "\n",
    "df = pd.read_csv(\"job_planet.csv\")\n",
    "df.head()"
   ]
  },
  {
   "cell_type": "code",
   "execution_count": 3,
   "metadata": {},
   "outputs": [],
   "source": [
    "#Company.csv minus the value of nan, minus the name of the company\n",
    "df['기업이름'] = df['기업이름'].str.replace('(주)', '')"
   ]
  },
  {
   "cell_type": "code",
   "execution_count": 5,
   "metadata": {},
   "outputs": [
    {
     "name": "stdout",
     "output_type": "stream",
     "text": [
      "<class 'pandas.core.frame.DataFrame'>\n",
      "RangeIndex: 12626 entries, 0 to 12625\n",
      "Data columns (total 5 columns):\n",
      " #   Column  Non-Null Count  Dtype  \n",
      "---  ------  --------------  -----  \n",
      " 0   기업이름    12626 non-null  object \n",
      " 1   분야      12626 non-null  object \n",
      " 2   평점      12626 non-null  float64\n",
      " 3   연봉      12626 non-null  int64  \n",
      " 4   2차산업군   12626 non-null  object \n",
      "dtypes: float64(1), int64(1), object(3)\n",
      "memory usage: 493.3+ KB\n"
     ]
    }
   ],
   "source": [
    "df.info()"
   ]
  },
  {
   "cell_type": "code",
   "execution_count": 8,
   "metadata": {},
   "outputs": [],
   "source": [
    "create_table_query = \"\"\"\n",
    "CREATE TABLE job_planet (\n",
    "    `기업이름` VARCHAR(50),\n",
    "    `분야` VARCHAR(30),\n",
    "    `평점` float,\n",
    "    `연봉` int,\n",
    "    `2차산업군` VARCHAR(30)\n",
    "   \n",
    ");\n",
    "\"\"\"\n",
    "cursor.execute(create_table_query)"
   ]
  },
  {
   "cell_type": "code",
   "execution_count": 11,
   "metadata": {},
   "outputs": [],
   "source": [
    "for index, row in df.iterrows():\n",
    "    insert_query = \"\"\"\n",
    "    INSERT INTO job_planet (`기업이름`, `분야`, `평점`, `연봉`, `2차산업군`)\n",
    "    VALUES (%s, %s, %s, %s, %s);\n",
    "    \"\"\"\n",
    "    cursor.execute(insert_query, (\n",
    "        row['기업이름'], row['분야'], float(row['평점']), int(row['연봉']), row['2차산업군']))"
   ]
  },
  {
   "cell_type": "code",
   "execution_count": 12,
   "metadata": {},
   "outputs": [
    {
     "name": "stdout",
     "output_type": "stream",
     "text": [
      "('티몬 ', 'IT/웹/통신', 2.8, 4175, 'IT')\n",
      "('위메프 ', 'IT/웹/통신', 2.6, 3989, 'IT')\n",
      "('엘지유플러스 ', 'IT/웹/통신', 3.2, 4909, 'IT')\n"
     ]
    }
   ],
   "source": [
    "cursor.execute(\"select * from job_planet limit 3;\")\n",
    "\n",
    "result = cursor.fetchall()\n",
    "for row in result:\n",
    "    print(row)"
   ]
  },
  {
   "cell_type": "code",
   "execution_count": 13,
   "metadata": {},
   "outputs": [],
   "source": [
    "conn.commit()"
   ]
  },
  {
   "cell_type": "code",
   "execution_count": 14,
   "metadata": {},
   "outputs": [
    {
     "name": "stdout",
     "output_type": "stream",
     "text": [
      "('티몬 ', 'IT/웹/통신', 2.8, 4175, 'IT')\n",
      "('위메프 ', 'IT/웹/통신', 2.6, 3989, 'IT')\n",
      "('엘지유플러스 ', 'IT/웹/통신', 3.2, 4909, 'IT')\n"
     ]
    }
   ],
   "source": [
    "cursor.execute(\"select * from job_planet limit 3;\")\n",
    "\n",
    "result = cursor.fetchall()\n",
    "for row in result:\n",
    "    print(row)"
   ]
  },
  {
   "cell_type": "markdown",
   "metadata": {},
   "source": [
    "##### sql에서 csv로 저장"
   ]
  },
  {
   "cell_type": "code",
   "execution_count": 44,
   "metadata": {},
   "outputs": [
    {
     "name": "stderr",
     "output_type": "stream",
     "text": [
      "/tmp/ipykernel_8410/909939827.py:2: UserWarning: pandas only supports SQLAlchemy connectable (engine/connection) or database string URI or sqlite3 DBAPI2 connection. Other DBAPI2 objects are not tested. Please consider using SQLAlchemy.\n",
      "  df = pd.read_sql(query, conn)\n"
     ]
    }
   ],
   "source": [
    "query = \"SELECT * FROM job_planet\"\n",
    "df = pd.read_sql(query, conn)"
   ]
  },
  {
   "cell_type": "code",
   "execution_count": 45,
   "metadata": {},
   "outputs": [],
   "source": [
    "df.to_csv('job_planet.csv', index=False)"
   ]
  },
  {
   "cell_type": "markdown",
   "metadata": {},
   "source": [
    "##### 기업 성장 지표 테이블"
   ]
  },
  {
   "cell_type": "code",
   "execution_count": 1,
   "metadata": {},
   "outputs": [
    {
     "data": {
      "text/html": [
       "<div>\n",
       "<style scoped>\n",
       "    .dataframe tbody tr th:only-of-type {\n",
       "        vertical-align: middle;\n",
       "    }\n",
       "\n",
       "    .dataframe tbody tr th {\n",
       "        vertical-align: top;\n",
       "    }\n",
       "\n",
       "    .dataframe thead th {\n",
       "        text-align: right;\n",
       "    }\n",
       "</style>\n",
       "<table border=\"1\" class=\"dataframe\">\n",
       "  <thead>\n",
       "    <tr style=\"text-align: right;\">\n",
       "      <th></th>\n",
       "      <th>기업이름</th>\n",
       "      <th>기업규모</th>\n",
       "      <th>매출액</th>\n",
       "      <th>평균연봉</th>\n",
       "      <th>자본총계1</th>\n",
       "      <th>자본총계2</th>\n",
       "      <th>자본총계3</th>\n",
       "      <th>매출액1</th>\n",
       "      <th>매출액2</th>\n",
       "      <th>매출액3</th>\n",
       "      <th>순이익1</th>\n",
       "      <th>순이익2</th>\n",
       "      <th>순이익3</th>\n",
       "      <th>기준년도</th>\n",
       "      <th>키워드</th>\n",
       "    </tr>\n",
       "  </thead>\n",
       "  <tbody>\n",
       "    <tr>\n",
       "      <th>0</th>\n",
       "      <td>에이알247</td>\n",
       "      <td>중소기업</td>\n",
       "      <td>0</td>\n",
       "      <td>4108</td>\n",
       "      <td>0</td>\n",
       "      <td>0</td>\n",
       "      <td>0</td>\n",
       "      <td>0</td>\n",
       "      <td>0</td>\n",
       "      <td>0</td>\n",
       "      <td>0</td>\n",
       "      <td>0</td>\n",
       "      <td>0</td>\n",
       "      <td>0</td>\n",
       "      <td>자율주행</td>\n",
       "    </tr>\n",
       "    <tr>\n",
       "      <th>1</th>\n",
       "      <td>쓰리핸즈</td>\n",
       "      <td>소기업</td>\n",
       "      <td>0</td>\n",
       "      <td>0</td>\n",
       "      <td>0</td>\n",
       "      <td>0</td>\n",
       "      <td>0</td>\n",
       "      <td>0</td>\n",
       "      <td>0</td>\n",
       "      <td>0</td>\n",
       "      <td>0</td>\n",
       "      <td>0</td>\n",
       "      <td>0</td>\n",
       "      <td>0</td>\n",
       "      <td>자율주행</td>\n",
       "    </tr>\n",
       "    <tr>\n",
       "      <th>2</th>\n",
       "      <td>매버릭컨설팅</td>\n",
       "      <td>중소기업</td>\n",
       "      <td>0</td>\n",
       "      <td>0</td>\n",
       "      <td>0</td>\n",
       "      <td>0</td>\n",
       "      <td>0</td>\n",
       "      <td>0</td>\n",
       "      <td>0</td>\n",
       "      <td>0</td>\n",
       "      <td>0</td>\n",
       "      <td>0</td>\n",
       "      <td>0</td>\n",
       "      <td>0</td>\n",
       "      <td>자율주행</td>\n",
       "    </tr>\n",
       "    <tr>\n",
       "      <th>3</th>\n",
       "      <td>현대자동차</td>\n",
       "      <td>대기업</td>\n",
       "      <td>4915569300</td>\n",
       "      <td>7371</td>\n",
       "      <td>0</td>\n",
       "      <td>0</td>\n",
       "      <td>0</td>\n",
       "      <td>0</td>\n",
       "      <td>0</td>\n",
       "      <td>0</td>\n",
       "      <td>0</td>\n",
       "      <td>0</td>\n",
       "      <td>0</td>\n",
       "      <td>0</td>\n",
       "      <td>자율주행</td>\n",
       "    </tr>\n",
       "    <tr>\n",
       "      <th>4</th>\n",
       "      <td>코가로보틱스</td>\n",
       "      <td>중소기업</td>\n",
       "      <td>37179</td>\n",
       "      <td>4578</td>\n",
       "      <td>2398977</td>\n",
       "      <td>101575</td>\n",
       "      <td>77147</td>\n",
       "      <td>37179</td>\n",
       "      <td>156842</td>\n",
       "      <td>74946</td>\n",
       "      <td>-835304</td>\n",
       "      <td>60623</td>\n",
       "      <td>37414</td>\n",
       "      <td>2022</td>\n",
       "      <td>자율주행</td>\n",
       "    </tr>\n",
       "  </tbody>\n",
       "</table>\n",
       "</div>"
      ],
      "text/plain": [
       "     기업이름  기업규모         매출액  평균연봉    자본총계1   자본총계2  자본총계3   매출액1    매출액2  \\\n",
       "0  에이알247  중소기업           0  4108        0       0      0      0       0   \n",
       "1    쓰리핸즈   소기업           0     0        0       0      0      0       0   \n",
       "2  매버릭컨설팅  중소기업           0     0        0       0      0      0       0   \n",
       "3   현대자동차   대기업  4915569300  7371        0       0      0      0       0   \n",
       "4  코가로보틱스  중소기업       37179  4578  2398977  101575  77147  37179  156842   \n",
       "\n",
       "    매출액3    순이익1   순이익2   순이익3  기준년도   키워드  \n",
       "0      0       0      0      0     0  자율주행  \n",
       "1      0       0      0      0     0  자율주행  \n",
       "2      0       0      0      0     0  자율주행  \n",
       "3      0       0      0      0     0  자율주행  \n",
       "4  74946 -835304  60623  37414  2022  자율주행  "
      ]
     },
     "execution_count": 1,
     "metadata": {},
     "output_type": "execute_result"
    }
   ],
   "source": [
    "import pandas as pd\n",
    "\n",
    "df = pd.read_csv(\"./rev_merge.csv\")\n",
    "df.head()"
   ]
  },
  {
   "cell_type": "code",
   "execution_count": 4,
   "metadata": {},
   "outputs": [],
   "source": [
    "import mysql.connector\n",
    "\n",
    "conn = mysql.connector.connect(\n",
    "    host = \"database-1.c3q2igwk6510.ap-northeast-2.rds.amazonaws.com\",\n",
    "    port = 3306,\n",
    "    user = \"root\",\n",
    "    password = \"20030320\",\n",
    "    database = \"project_merge\"\n",
    ")\n",
    "cursor = conn.cursor(buffered=True)"
   ]
  },
  {
   "cell_type": "code",
   "execution_count": 2,
   "metadata": {},
   "outputs": [
    {
     "name": "stdout",
     "output_type": "stream",
     "text": [
      "<class 'pandas.core.frame.DataFrame'>\n",
      "RangeIndex: 323 entries, 0 to 322\n",
      "Data columns (total 15 columns):\n",
      " #   Column  Non-Null Count  Dtype \n",
      "---  ------  --------------  ----- \n",
      " 0   기업이름    323 non-null    object\n",
      " 1   기업규모    316 non-null    object\n",
      " 2   매출액     323 non-null    int64 \n",
      " 3   평균연봉    323 non-null    int64 \n",
      " 4   자본총계1   323 non-null    int64 \n",
      " 5   자본총계2   323 non-null    int64 \n",
      " 6   자본총계3   323 non-null    int64 \n",
      " 7   매출액1    323 non-null    int64 \n",
      " 8   매출액2    323 non-null    int64 \n",
      " 9   매출액3    323 non-null    int64 \n",
      " 10  순이익1    323 non-null    int64 \n",
      " 11  순이익2    323 non-null    int64 \n",
      " 12  순이익3    323 non-null    int64 \n",
      " 13  기준년도    323 non-null    int64 \n",
      " 14  키워드     323 non-null    object\n",
      "dtypes: int64(12), object(3)\n",
      "memory usage: 38.0+ KB\n"
     ]
    }
   ],
   "source": [
    "df.info()"
   ]
  },
  {
   "cell_type": "code",
   "execution_count": 5,
   "metadata": {},
   "outputs": [],
   "source": [
    "create_table_query = \"\"\"\n",
    "CREATE TABLE cor_growth(\n",
    "    기업이름 VARCHAR(255),\n",
    "    기업규모 VARCHAR(255),\n",
    "    매출액 INT,\n",
    "    평균연봉 INT,\n",
    "    자본총계1 INT,\n",
    "    자본총계2 INT,\n",
    "    자본총계3 INT,\n",
    "    매출액1 INT,\n",
    "    매출액2 INT,\n",
    "    매출액3 INT,\n",
    "    순이익1 INT,\n",
    "    순이익2 INT,\n",
    "    순이익3 INT,\n",
    "    기준년도 INT,\n",
    "    키워드 VARCHAR(255)\n",
    ");\n",
    "\"\"\"\n",
    "cursor.execute(create_table_query)"
   ]
  },
  {
   "cell_type": "code",
   "execution_count": 6,
   "metadata": {},
   "outputs": [],
   "source": [
    "for index, row in df.iterrows():\n",
    "    insert_query = f\"\"\"\n",
    "    INSERT INTO cor_growth\n",
    "    VALUES (\n",
    "        '{row[\"기업이름\"]}', '{row[\"기업규모\"]}', {row[\"매출액\"]}, {row[\"평균연봉\"]},\n",
    "        {row[\"자본총계1\"]}, {row[\"자본총계2\"]}, {row[\"자본총계3\"]},\n",
    "        {row[\"매출액1\"]}, {row[\"매출액2\"]}, {row[\"매출액3\"]},\n",
    "        {row[\"순이익1\"]}, {row[\"순이익2\"]}, {row[\"순이익3\"]},\n",
    "        {row[\"기준년도\"]}, '{row[\"키워드\"]}'\n",
    "    );\n",
    "    \"\"\"\n",
    "    cursor.execute(insert_query)"
   ]
  },
  {
   "cell_type": "code",
   "execution_count": 7,
   "metadata": {},
   "outputs": [],
   "source": [
    "cursor.execute(\"ALTER TABLE cor_growth ADD COLUMN 인덱스 INT;\")"
   ]
  },
  {
   "cell_type": "code",
   "execution_count": 8,
   "metadata": {},
   "outputs": [],
   "source": [
    "cursor.execute(\"SET @index = 0;\")\n",
    "cursor.execute(\"UPDATE cor_growth SET `인덱스` = @index:=@index+1;\")"
   ]
  },
  {
   "cell_type": "code",
   "execution_count": 10,
   "metadata": {},
   "outputs": [],
   "source": [
    "conn.commit()"
   ]
  }
 ],
 "metadata": {
  "kernelspec": {
   "display_name": "eda_venv",
   "language": "python",
   "name": "python3"
  },
  "language_info": {
   "codemirror_mode": {
    "name": "ipython",
    "version": 3
   },
   "file_extension": ".py",
   "mimetype": "text/x-python",
   "name": "python",
   "nbconvert_exporter": "python",
   "pygments_lexer": "ipython3",
   "version": "3.10.12"
  }
 },
 "nbformat": 4,
 "nbformat_minor": 2
}
