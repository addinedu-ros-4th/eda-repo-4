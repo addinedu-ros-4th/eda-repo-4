{
 "cells": [
  {
   "cell_type": "markdown",
   "metadata": {},
   "source": [
    "#####  데이터베이스 생성 및 테이블 생성"
   ]
  },
  {
   "cell_type": "code",
   "execution_count": null,
   "metadata": {},
   "outputs": [],
   "source": [
    "import mysql.connector\n",
    "\n",
    "conn = mysql.connector.connect(\n",
    "    host = \"rds.amazonaws.com\",\n",
    "    port = 3306,\n",
    "    user = \"\",\n",
    "    password = \"\"\n",
    ")"
   ]
  },
  {
   "cell_type": "code",
   "execution_count": null,
   "metadata": {},
   "outputs": [],
   "source": [
    "#데이터베이스 생성\n",
    "cursor = conn.cursor(buffered=True)\n",
    "cursor.execute(\"create database project_merge\")"
   ]
  },
  {
   "cell_type": "code",
   "execution_count": null,
   "metadata": {},
   "outputs": [],
   "source": [
    "#생성된 데이터베이스로 연결\n",
    "import mysql.connector\n",
    "\n",
    "conn = mysql.connector.connect(\n",
    "    host = \"rds.amazonaws.com\",\n",
    "    port = 3306,\n",
    "    user = \"\",\n",
    "    password = \"\",\n",
    "    database = \"project_merge\"\n",
    ")"
   ]
  },
  {
   "cell_type": "code",
   "execution_count": null,
   "metadata": {},
   "outputs": [],
   "source": [
    "cursor = conn.cursor(buffered=True)"
   ]
  },
  {
   "cell_type": "markdown",
   "metadata": {},
   "source": [
    "##### csv mysql 테이블에 저장하는 과정"
   ]
  },
  {
   "cell_type": "code",
   "execution_count": null,
   "metadata": {},
   "outputs": [],
   "source": [
    "import mysql.connector\n",
    "\n",
    "conn = mysql.connector.connect(\n",
    "    host = \"rds.amazonaws.com\",\n",
    "    port = 3306,\n",
    "    user = \"\",\n",
    "    password = \"\",\n",
    "    database = \"project_merge\"\n",
    ")"
   ]
  },
  {
   "cell_type": "code",
   "execution_count": 9,
   "metadata": {},
   "outputs": [
    {
     "data": {
      "text/html": [
       "<div>\n",
       "<style scoped>\n",
       "    .dataframe tbody tr th:only-of-type {\n",
       "        vertical-align: middle;\n",
       "    }\n",
       "\n",
       "    .dataframe tbody tr th {\n",
       "        vertical-align: top;\n",
       "    }\n",
       "\n",
       "    .dataframe thead th {\n",
       "        text-align: right;\n",
       "    }\n",
       "</style>\n",
       "<table border=\"1\" class=\"dataframe\">\n",
       "  <thead>\n",
       "    <tr style=\"text-align: right;\">\n",
       "      <th></th>\n",
       "      <th>기업이름</th>\n",
       "      <th>고용형태</th>\n",
       "      <th>연봉</th>\n",
       "      <th>기업주소</th>\n",
       "      <th>키워드</th>\n",
       "      <th>담당업무</th>\n",
       "      <th>필요역량</th>\n",
       "    </tr>\n",
       "  </thead>\n",
       "  <tbody>\n",
       "    <tr>\n",
       "      <th>0</th>\n",
       "      <td>컨트롤웍스</td>\n",
       "      <td>2년</td>\n",
       "      <td>연봉업계평균이상</td>\n",
       "      <td>서울 강남구 언주로81길 13 진일빌딩 3층</td>\n",
       "      <td>자율주행</td>\n",
       "      <td>[2년 이상] 자율주행 Front-End 개발자</td>\n",
       "      <td>[자격요건], 학사 이상 (컴퓨터 공학/감성 및 인간공학 등 전공), 프론트엔드 개...</td>\n",
       "    </tr>\n",
       "    <tr>\n",
       "      <th>1</th>\n",
       "      <td>뷰런테크놀로지</td>\n",
       "      <td>-</td>\n",
       "      <td>-</td>\n",
       "      <td>서초구 강남대로 311, 19층</td>\n",
       "      <td>자율주행</td>\n",
       "      <td>자율주행 인지 개발자</td>\n",
       "      <td>, 전자전기/컴퓨터공학 학사 이상 또는 이와 비슷한 동종업계 경력, C/C++ 또는...</td>\n",
       "    </tr>\n",
       "    <tr>\n",
       "      <th>2</th>\n",
       "      <td>씨엔비스</td>\n",
       "      <td>4년</td>\n",
       "      <td>-</td>\n",
       "      <td>경기도 성남시 수정구 창업로 43, 판교 글로벌비즈센터 A동 907~910호</td>\n",
       "      <td>자율주행</td>\n",
       "      <td>자율주행 인지 개발자</td>\n",
       "      <td>, 관련 분야 학사학위(4년제) 이상, 혹은 유관 분야 경력 2년 이상이신 분, C...</td>\n",
       "    </tr>\n",
       "    <tr>\n",
       "      <th>3</th>\n",
       "      <td>컨트롤웍스</td>\n",
       "      <td>2년</td>\n",
       "      <td>연봉업계평균이상</td>\n",
       "      <td>서울 강남구 언주로81길 13 진일빌딩 3층</td>\n",
       "      <td>자율주행</td>\n",
       "      <td>자율주행 SW 엔지니어</td>\n",
       "      <td>[자격요건],  학사학위 이상(자동차공학, 기계공학, 로보틱스, 컴퓨터 공학, 전기...</td>\n",
       "    </tr>\n",
       "    <tr>\n",
       "      <th>4</th>\n",
       "      <td>베스텔라랩</td>\n",
       "      <td>2년</td>\n",
       "      <td>연봉업계평균이상</td>\n",
       "      <td>안양시 동안구 엘에스로116번길 118 안양2차 SKV1 Center</td>\n",
       "      <td>자율주행</td>\n",
       "      <td>자율주행 연구원(경기/대구)(전문연구요원가능)</td>\n",
       "      <td>- 2년이상 경력자- C++ 혹은 Python 프로그래밍 능력- 국영문 학술논문 등...</td>\n",
       "    </tr>\n",
       "  </tbody>\n",
       "</table>\n",
       "</div>"
      ],
      "text/plain": [
       "      기업이름 고용형태        연봉                                        기업주소   키워드  \\\n",
       "0    컨트롤웍스   2년  연봉업계평균이상                    서울 강남구 언주로81길 13 진일빌딩 3층  자율주행   \n",
       "1  뷰런테크놀로지    -         -                           서초구 강남대로 311, 19층  자율주행   \n",
       "2     씨엔비스   4년         -  경기도 성남시 수정구 창업로 43, 판교 글로벌비즈센터 A동 907~910호  자율주행   \n",
       "3    컨트롤웍스   2년  연봉업계평균이상                    서울 강남구 언주로81길 13 진일빌딩 3층  자율주행   \n",
       "4    베스텔라랩   2년  연봉업계평균이상      안양시 동안구 엘에스로116번길 118 안양2차 SKV1 Center  자율주행   \n",
       "\n",
       "                         담당업무  \\\n",
       "0  [2년 이상] 자율주행 Front-End 개발자   \n",
       "1                 자율주행 인지 개발자   \n",
       "2                 자율주행 인지 개발자   \n",
       "3                자율주행 SW 엔지니어   \n",
       "4   자율주행 연구원(경기/대구)(전문연구요원가능)   \n",
       "\n",
       "                                                필요역량  \n",
       "0  [자격요건], 학사 이상 (컴퓨터 공학/감성 및 인간공학 등 전공), 프론트엔드 개...  \n",
       "1  , 전자전기/컴퓨터공학 학사 이상 또는 이와 비슷한 동종업계 경력, C/C++ 또는...  \n",
       "2  , 관련 분야 학사학위(4년제) 이상, 혹은 유관 분야 경력 2년 이상이신 분, C...  \n",
       "3  [자격요건],  학사학위 이상(자동차공학, 기계공학, 로보틱스, 컴퓨터 공학, 전기...  \n",
       "4  - 2년이상 경력자- C++ 혹은 Python 프로그래밍 능력- 국영문 학술논문 등...  "
      ]
     },
     "execution_count": 9,
     "metadata": {},
     "output_type": "execute_result"
    }
   ],
   "source": [
    "#자율주행 합치기\n",
    "import pandas as pd\n",
    "\n",
    "df = pd.read_csv(\"./output.csv\")\n",
    "df.head()"
   ]
  },
  {
   "cell_type": "code",
   "execution_count": null,
   "metadata": {},
   "outputs": [],
   "source": [
    "df = df.drop(['Unnamed: 0'], axis=1)"
   ]
  },
  {
   "cell_type": "code",
   "execution_count": 89,
   "metadata": {},
   "outputs": [],
   "source": [
    "df.rename(columns={'기업위치': '기업주소'}, inplace=True)"
   ]
  },
  {
   "cell_type": "code",
   "execution_count": 134,
   "metadata": {},
   "outputs": [],
   "source": [
    "df.fillna('-', inplace=True)"
   ]
  },
  {
   "cell_type": "code",
   "execution_count": 164,
   "metadata": {},
   "outputs": [
    {
     "data": {
      "text/plain": [
       "Index(['기업이름', '고용형태', '연봉', '기업주소', '키워드', '담당업무', '필요역량'], dtype='object')"
      ]
     },
     "execution_count": 164,
     "metadata": {},
     "output_type": "execute_result"
    }
   ],
   "source": [
    "df.columns"
   ]
  },
  {
   "cell_type": "code",
   "execution_count": 131,
   "metadata": {},
   "outputs": [],
   "source": [
    "#Change column order\n",
    "new_order = ['기업이름', '고용형태', '연봉','기업주소','키워드','담당업무','필요역량']  \n",
    "df = df[new_order]"
   ]
  },
  {
   "cell_type": "code",
   "execution_count": null,
   "metadata": {},
   "outputs": [],
   "source": [
    "for index, row in df.iterrows():\n",
    "    insert_query = \"\"\"\n",
    "    INSERT INTO project_merge (`기업이름`, `고용형태`, `연봉`, `기업주소`, `키워드`, `담당업무`, `필요역량`)\n",
    "    VALUES (%s, %s, %s, %s, %s, %s, %s);\n",
    "    \"\"\"\n",
    "    cursor.execute(insert_query, (\n",
    "        row['기업이름'], row['고용형태'], row['연봉'], row['기업주소'],\n",
    "        row['키워드'], row['담당업무'], row['필요역량']\n",
    "    ))"
   ]
  },
  {
   "cell_type": "code",
   "execution_count": null,
   "metadata": {},
   "outputs": [],
   "source": [
    "#Create index column (run only once)\n",
    "cursor.execute(\"ALTER TABLE project_merge ADD COLUMN 인덱스 INT;\")"
   ]
  },
  {
   "cell_type": "code",
   "execution_count": 166,
   "metadata": {},
   "outputs": [],
   "source": [
    "#Add an index to the index column\n",
    "cursor.execute(\"SET @index = 0;\")\n",
    "cursor.execute(\"UPDATE project_merge SET `인덱스` = @index:=@index+1;\")"
   ]
  },
  {
   "cell_type": "code",
   "execution_count": 168,
   "metadata": {},
   "outputs": [],
   "source": [
    "conn.commit()"
   ]
  },
  {
   "cell_type": "code",
   "execution_count": 3,
   "metadata": {},
   "outputs": [
    {
     "data": {
      "text/html": [
       "<div>\n",
       "<style scoped>\n",
       "    .dataframe tbody tr th:only-of-type {\n",
       "        vertical-align: middle;\n",
       "    }\n",
       "\n",
       "    .dataframe tbody tr th {\n",
       "        vertical-align: top;\n",
       "    }\n",
       "\n",
       "    .dataframe thead th {\n",
       "        text-align: right;\n",
       "    }\n",
       "</style>\n",
       "<table border=\"1\" class=\"dataframe\">\n",
       "  <thead>\n",
       "    <tr style=\"text-align: right;\">\n",
       "      <th></th>\n",
       "      <th>기업이름</th>\n",
       "      <th>고용형태</th>\n",
       "      <th>연봉</th>\n",
       "      <th>기업주소</th>\n",
       "      <th>키워드</th>\n",
       "      <th>담당업무</th>\n",
       "      <th>필요역량</th>\n",
       "    </tr>\n",
       "  </thead>\n",
       "  <tbody>\n",
       "    <tr>\n",
       "      <th>0</th>\n",
       "      <td>니어스랩</td>\n",
       "      <td>3년</td>\n",
       "      <td>-</td>\n",
       "      <td>서울시 강남구 논현로 417 화원빌딩 4, 5층</td>\n",
       "      <td>드론</td>\n",
       "      <td>소프트웨어 엔지니어 팀장 (드론 원격 관제 S/W 개발)</td>\n",
       "      <td>3년 이상의 S/W 개발 경험 (분야 무관)다양한 프로그래밍 언어를 자유롭게 활용 ...</td>\n",
       "    </tr>\n",
       "  </tbody>\n",
       "</table>\n",
       "</div>"
      ],
      "text/plain": [
       "   기업이름 고용형태 연봉                        기업주소 키워드  \\\n",
       "0  니어스랩   3년  -  서울시 강남구 논현로 417 화원빌딩 4, 5층  드론   \n",
       "\n",
       "                              담당업무  \\\n",
       "0  소프트웨어 엔지니어 팀장 (드론 원격 관제 S/W 개발)   \n",
       "\n",
       "                                                필요역량  \n",
       "0  3년 이상의 S/W 개발 경험 (분야 무관)다양한 프로그래밍 언어를 자유롭게 활용 ...  "
      ]
     },
     "execution_count": 3,
     "metadata": {},
     "output_type": "execute_result"
    }
   ],
   "source": [
    "#Importing drone values\n",
    "import pandas as pd\n",
    "df = pd.read_csv(\"./output1.csv\")\n",
    "df.head()"
   ]
  },
  {
   "cell_type": "code",
   "execution_count": null,
   "metadata": {},
   "outputs": [],
   "source": [
    "for index, row in df.iterrows():\n",
    "    insert_query = \"\"\"\n",
    "    INSERT INTO project_merge (`기업이름`, `고용형태`, `연봉`, `기업주소`, `키워드`, `담당업무`, `필요역량`)\n",
    "    VALUES (%s, %s, %s, %s, %s, %s, %s);\n",
    "    \"\"\"\n",
    "    cursor.execute(insert_query, (\n",
    "        row['기업이름'], row['고용형태'], row['연봉'], row['기업주소'],\n",
    "        row['키워드'], row['담당업무'], row['필요역량']\n",
    "    ))"
   ]
  },
  {
   "cell_type": "code",
   "execution_count": null,
   "metadata": {},
   "outputs": [],
   "source": [
    "\n",
    "cursor.execute(\"SET @index = 0;\")\n",
    "cursor.execute(\"UPDATE project_merge SET `인덱스` = @index:=@index+1;\")"
   ]
  },
  {
   "cell_type": "code",
   "execution_count": null,
   "metadata": {},
   "outputs": [],
   "source": [
    "conn.commit()"
   ]
  },
  {
   "cell_type": "code",
   "execution_count": 10,
   "metadata": {},
   "outputs": [
    {
     "data": {
      "text/html": [
       "<div>\n",
       "<style scoped>\n",
       "    .dataframe tbody tr th:only-of-type {\n",
       "        vertical-align: middle;\n",
       "    }\n",
       "\n",
       "    .dataframe tbody tr th {\n",
       "        vertical-align: top;\n",
       "    }\n",
       "\n",
       "    .dataframe thead th {\n",
       "        text-align: right;\n",
       "    }\n",
       "</style>\n",
       "<table border=\"1\" class=\"dataframe\">\n",
       "  <thead>\n",
       "    <tr style=\"text-align: right;\">\n",
       "      <th></th>\n",
       "      <th>기업이름</th>\n",
       "      <th>고용형태</th>\n",
       "      <th>연봉</th>\n",
       "      <th>기업주소</th>\n",
       "      <th>키워드</th>\n",
       "      <th>담당업무</th>\n",
       "      <th>필요역량</th>\n",
       "    </tr>\n",
       "  </thead>\n",
       "  <tbody>\n",
       "    <tr>\n",
       "      <th>0</th>\n",
       "      <td>메디인테크</td>\n",
       "      <td>-</td>\n",
       "      <td>-</td>\n",
       "      <td>서울특별시 종로구 대학로 60 동마루빌딩 2층</td>\n",
       "      <td>로봇제어</td>\n",
       "      <td>[전문연구요원 가능] C/C++, Python 로봇 제어 개발자 (신입)</td>\n",
       "      <td>, Robot Engineering / Mechanical Engineering 에...</td>\n",
       "    </tr>\n",
       "    <tr>\n",
       "      <th>1</th>\n",
       "      <td>에이치디현대로보틱스</td>\n",
       "      <td>3년</td>\n",
       "      <td>-</td>\n",
       "      <td>경기도 성남시 분당구 분당수서로 477, HD현대그룹 R&amp;D센터 10F</td>\n",
       "      <td>로봇제어</td>\n",
       "      <td>로봇 시스템 서보제어 개발</td>\n",
       "      <td>, 석사 이상, 경력 3년 이상, 서보모터 제어 개발 경험자, Embedded sy...</td>\n",
       "    </tr>\n",
       "    <tr>\n",
       "      <th>2</th>\n",
       "      <td>알지티</td>\n",
       "      <td>3년</td>\n",
       "      <td>-</td>\n",
       "      <td>서울 금천구 디지털로10길 78 가산테라타워 10층</td>\n",
       "      <td>로봇제어</td>\n",
       "      <td>모바일 로봇 제어 SW 개발자 (navigation)</td>\n",
       "      <td>ㆍ관련 경력 3년이상ㆍ실내 Navigation 분야 상용화 제품 개발 경력자(저널 ...</td>\n",
       "    </tr>\n",
       "    <tr>\n",
       "      <th>3</th>\n",
       "      <td>메디인테크</td>\n",
       "      <td>-</td>\n",
       "      <td>-</td>\n",
       "      <td>서울특별시 종로구 대학로 60 동마루빌딩 2층</td>\n",
       "      <td>로봇제어</td>\n",
       "      <td>[전문연구요원 가능] C/C++, Python 로봇 제어 개발자</td>\n",
       "      <td>, 경력 무관, Robot Engineering / Mechanical Engine...</td>\n",
       "    </tr>\n",
       "    <tr>\n",
       "      <th>4</th>\n",
       "      <td>알지에이아이엔씨(RGA Inc.)</td>\n",
       "      <td>5년</td>\n",
       "      <td>-</td>\n",
       "      <td>서울시 서초구 서초대로 396, 7층 (서초동, 강남빌딩)</td>\n",
       "      <td>로봇제어</td>\n",
       "      <td>로봇 제어 엔지니어</td>\n",
       "      <td>, 로보틱스/메카트로닉스/기계공학/전기전자공학 등 이 · 공 계열 학석사 이상 또는...</td>\n",
       "    </tr>\n",
       "  </tbody>\n",
       "</table>\n",
       "</div>"
      ],
      "text/plain": [
       "                 기업이름 고용형태 연봉                                     기업주소   키워드  \\\n",
       "0               메디인테크    -  -                서울특별시 종로구 대학로 60 동마루빌딩 2층  로봇제어   \n",
       "1          에이치디현대로보틱스   3년  -  경기도 성남시 분당구 분당수서로 477, HD현대그룹 R&D센터 10F  로봇제어   \n",
       "2                 알지티   3년  -             서울 금천구 디지털로10길 78 가산테라타워 10층  로봇제어   \n",
       "3               메디인테크    -  -                서울특별시 종로구 대학로 60 동마루빌딩 2층  로봇제어   \n",
       "4  알지에이아이엔씨(RGA Inc.)   5년  -         서울시 서초구 서초대로 396, 7층 (서초동, 강남빌딩)  로봇제어   \n",
       "\n",
       "                                       담당업무  \\\n",
       "0  [전문연구요원 가능] C/C++, Python 로봇 제어 개발자 (신입)   \n",
       "1                            로봇 시스템 서보제어 개발   \n",
       "2             모바일 로봇 제어 SW 개발자 (navigation)   \n",
       "3       [전문연구요원 가능] C/C++, Python 로봇 제어 개발자   \n",
       "4                                로봇 제어 엔지니어   \n",
       "\n",
       "                                                필요역량  \n",
       "0  , Robot Engineering / Mechanical Engineering 에...  \n",
       "1  , 석사 이상, 경력 3년 이상, 서보모터 제어 개발 경험자, Embedded sy...  \n",
       "2  ㆍ관련 경력 3년이상ㆍ실내 Navigation 분야 상용화 제품 개발 경력자(저널 ...  \n",
       "3  , 경력 무관, Robot Engineering / Mechanical Engine...  \n",
       "4  , 로보틱스/메카트로닉스/기계공학/전기전자공학 등 이 · 공 계열 학석사 이상 또는...  "
      ]
     },
     "execution_count": 10,
     "metadata": {},
     "output_type": "execute_result"
    }
   ],
   "source": [
    "#Importing robot control\n",
    "import pandas as pd\n",
    "df = pd.read_csv(\"./output2.csv\")\n",
    "df.head()\n"
   ]
  },
  {
   "cell_type": "code",
   "execution_count": null,
   "metadata": {},
   "outputs": [],
   "source": [
    "for index, row in df.iterrows():\n",
    "    insert_query = \"\"\"\n",
    "    INSERT INTO project_merge (`기업이름`, `고용형태`, `연봉`, `기업주소`, `키워드`, `담당업무`, `필요역량`)\n",
    "    VALUES (%s, %s, %s, %s, %s, %s, %s);\n",
    "    \"\"\"\n",
    "    cursor.execute(insert_query, (\n",
    "        row['기업이름'], row['고용형태'], row['연봉'], row['기업주소'],\n",
    "        row['키워드'], row['담당업무'], row['필요역량']\n",
    "    ))"
   ]
  },
  {
   "cell_type": "code",
   "execution_count": null,
   "metadata": {},
   "outputs": [],
   "source": [
    "cursor.execute(\"SET @index = 0;\")\n",
    "cursor.execute(\"UPDATE project_merge SET `인덱스` = @index:=@index+1;\")\n"
   ]
  },
  {
   "cell_type": "code",
   "execution_count": null,
   "metadata": {},
   "outputs": [],
   "source": [
    "conn.commit()"
   ]
  },
  {
   "cell_type": "code",
   "execution_count": 11,
   "metadata": {},
   "outputs": [
    {
     "data": {
      "text/html": [
       "<div>\n",
       "<style scoped>\n",
       "    .dataframe tbody tr th:only-of-type {\n",
       "        vertical-align: middle;\n",
       "    }\n",
       "\n",
       "    .dataframe tbody tr th {\n",
       "        vertical-align: top;\n",
       "    }\n",
       "\n",
       "    .dataframe thead th {\n",
       "        text-align: right;\n",
       "    }\n",
       "</style>\n",
       "<table border=\"1\" class=\"dataframe\">\n",
       "  <thead>\n",
       "    <tr style=\"text-align: right;\">\n",
       "      <th></th>\n",
       "      <th>기업이름</th>\n",
       "      <th>고용형태</th>\n",
       "      <th>연봉</th>\n",
       "      <th>기업주소</th>\n",
       "      <th>키워드</th>\n",
       "      <th>담당업무</th>\n",
       "      <th>필요역량</th>\n",
       "    </tr>\n",
       "  </thead>\n",
       "  <tbody>\n",
       "    <tr>\n",
       "      <th>0</th>\n",
       "      <td>한국딥러닝</td>\n",
       "      <td>-</td>\n",
       "      <td>-</td>\n",
       "      <td>서초구 강남대로 527, 브랜드칸 타워 6층</td>\n",
       "      <td>딥러닝</td>\n",
       "      <td>세일즈/전략 파트장</td>\n",
       "      <td>■ 이런 분과 함께하고 싶습니다- 풍부한 SI 영업, AI 솔루션 영업 경험이 있으...</td>\n",
       "    </tr>\n",
       "    <tr>\n",
       "      <th>1</th>\n",
       "      <td>포지큐브(POSICUBE)</td>\n",
       "      <td>-</td>\n",
       "      <td>연봉업계평균이상</td>\n",
       "      <td>서울특별시 강남구 역삼1동 823-30 라인빌딩 10층, 11층, 12층</td>\n",
       "      <td>딥러닝</td>\n",
       "      <td>언어모델 딥러닝 개발자</td>\n",
       "      <td>+ 인공지능 및 머신러닝 연구 개발 경험+ Python, Pytorch, Tenso...</td>\n",
       "    </tr>\n",
       "    <tr>\n",
       "      <th>2</th>\n",
       "      <td>한국딥러닝</td>\n",
       "      <td>-</td>\n",
       "      <td>-</td>\n",
       "      <td>서울특별시 서초구 강남대로 537, 브랜드칸 타워 6층</td>\n",
       "      <td>딥러닝</td>\n",
       "      <td>ML/DL Engineer (머신러닝/딥러닝 엔지니어)</td>\n",
       "      <td>- OCR 시스템의 구조를 알고 이를 딥러닝 모형으로 구현이 가능하신 분- 딥러닝 ...</td>\n",
       "    </tr>\n",
       "    <tr>\n",
       "      <th>3</th>\n",
       "      <td>한국딥러닝</td>\n",
       "      <td>-</td>\n",
       "      <td>-</td>\n",
       "      <td>서울특별시 서초구 강남대로 537, 브랜드칸 타워 6층</td>\n",
       "      <td>딥러닝</td>\n",
       "      <td>딥러닝 엔지니어 (3D Reconstruction / 3D Generation)</td>\n",
       "      <td>, 학력 : 석사 이상, 딥러닝, 머신러닝에 대한 깊은 이해를 기반으로 한 AI 서...</td>\n",
       "    </tr>\n",
       "    <tr>\n",
       "      <th>4</th>\n",
       "      <td>슈어소프트테크</td>\n",
       "      <td>3년</td>\n",
       "      <td>연봉업계평균이상</td>\n",
       "      <td>성남시 수정구 금토로80번길 37(금토동)</td>\n",
       "      <td>딥러닝</td>\n",
       "      <td>[AI기술팀] 머신러닝/딥러닝 개발자</td>\n",
       "      <td>, 관련 분야 3년 이상 경력자, C/C++/Python 숙련자, Tensorflo...</td>\n",
       "    </tr>\n",
       "  </tbody>\n",
       "</table>\n",
       "</div>"
      ],
      "text/plain": [
       "             기업이름 고용형태        연봉                                      기업주소  \\\n",
       "0           한국딥러닝    -         -                  서초구 강남대로 527, 브랜드칸 타워 6층   \n",
       "1  포지큐브(POSICUBE)    -  연봉업계평균이상  서울특별시 강남구 역삼1동 823-30 라인빌딩 10층, 11층, 12층   \n",
       "2           한국딥러닝    -         -            서울특별시 서초구 강남대로 537, 브랜드칸 타워 6층   \n",
       "3           한국딥러닝    -         -            서울특별시 서초구 강남대로 537, 브랜드칸 타워 6층   \n",
       "4         슈어소프트테크   3년  연봉업계평균이상                   성남시 수정구 금토로80번길 37(금토동)   \n",
       "\n",
       "   키워드                                          담당업무  \\\n",
       "0  딥러닝                                    세일즈/전략 파트장   \n",
       "1  딥러닝                                  언어모델 딥러닝 개발자   \n",
       "2  딥러닝                ML/DL Engineer (머신러닝/딥러닝 엔지니어)   \n",
       "3  딥러닝  딥러닝 엔지니어 (3D Reconstruction / 3D Generation)   \n",
       "4  딥러닝                          [AI기술팀] 머신러닝/딥러닝 개발자   \n",
       "\n",
       "                                                필요역량  \n",
       "0  ■ 이런 분과 함께하고 싶습니다- 풍부한 SI 영업, AI 솔루션 영업 경험이 있으...  \n",
       "1  + 인공지능 및 머신러닝 연구 개발 경험+ Python, Pytorch, Tenso...  \n",
       "2  - OCR 시스템의 구조를 알고 이를 딥러닝 모형으로 구현이 가능하신 분- 딥러닝 ...  \n",
       "3  , 학력 : 석사 이상, 딥러닝, 머신러닝에 대한 깊은 이해를 기반으로 한 AI 서...  \n",
       "4  , 관련 분야 3년 이상 경력자, C/C++/Python 숙련자, Tensorflo...  "
      ]
     },
     "execution_count": 11,
     "metadata": {},
     "output_type": "execute_result"
    }
   ],
   "source": [
    "#Import Deep Learning\n",
    "import pandas as pd\n",
    "df = pd.read_csv(\"./output3.csv\")\n",
    "df.head()"
   ]
  },
  {
   "cell_type": "code",
   "execution_count": null,
   "metadata": {},
   "outputs": [],
   "source": [
    "for index, row in df.iterrows():\n",
    "    insert_query = \"\"\"\n",
    "    INSERT INTO project_merge (`기업이름`, `고용형태`, `연봉`, `기업주소`, `키워드`, `담당업무`, `필요역량`)\n",
    "    VALUES (%s, %s, %s, %s, %s, %s, %s);\n",
    "    \"\"\"\n",
    "    cursor.execute(insert_query, (\n",
    "        row['기업이름'], row['고용형태'], row['연봉'], row['기업주소'],\n",
    "        row['키워드'], row['담당업무'], row['필요역량']\n",
    "    ))"
   ]
  },
  {
   "cell_type": "code",
   "execution_count": null,
   "metadata": {},
   "outputs": [],
   "source": [
    "cursor.execute(\"SET @index = 0;\")\n",
    "cursor.execute(\"UPDATE project_merge SET `인덱스` = @index:=@index+1;\")"
   ]
  },
  {
   "cell_type": "code",
   "execution_count": null,
   "metadata": {},
   "outputs": [],
   "source": [
    "conn.commit()"
   ]
  },
  {
   "cell_type": "markdown",
   "metadata": {},
   "source": [
    "* sql 테이블 가져오기"
   ]
  },
  {
   "cell_type": "code",
   "execution_count": 171,
   "metadata": {},
   "outputs": [
    {
     "name": "stderr",
     "output_type": "stream",
     "text": [
      "/tmp/ipykernel_11672/1578460496.py:2: UserWarning: pandas only supports SQLAlchemy connectable (engine/connection) or database string URI or sqlite3 DBAPI2 connection. Other DBAPI2 objects are not tested. Please consider using SQLAlchemy.\n",
      "  df = pd.read_sql(query, conn)\n"
     ]
    }
   ],
   "source": [
    "query = \"SELECT * FROM project_merge\"\n",
    "df = pd.read_sql(query, conn)\n"
   ]
  },
  {
   "cell_type": "markdown",
   "metadata": {},
   "source": [
    "* sql에 테이블 올리기"
   ]
  },
  {
   "cell_type": "code",
   "execution_count": 46,
   "metadata": {},
   "outputs": [],
   "source": [
    "from sqlalchemy import create_engine\n",
    "\n",
    "# Setting MySQL Connection Information\n",
    "engine = create_engine('mysql+mysqlconnector://')\n",
    "\n",
    "# Insert DataFrame into MySQL Table\n",
    "df.to_sql(name='project_merge', con=engine, if_exists='replace', index=False)"
   ]
  }
 ],
 "metadata": {
  "kernelspec": {
   "display_name": "eda_venv",
   "language": "python",
   "name": "python3"
  },
  "language_info": {
   "codemirror_mode": {
    "name": "ipython",
    "version": 3
   },
   "file_extension": ".py",
   "mimetype": "text/x-python",
   "name": "python",
   "nbconvert_exporter": "python",
   "pygments_lexer": "ipython3",
   "version": "3.10.12"
  }
 },
 "nbformat": 4,
 "nbformat_minor": 2
}
