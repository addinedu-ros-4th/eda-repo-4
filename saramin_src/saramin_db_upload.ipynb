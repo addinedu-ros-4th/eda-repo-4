{
 "cells": [
  {
   "cell_type": "code",
   "execution_count": null,
   "metadata": {},
   "outputs": [],
   "source": [
    "import mysql.connector\n",
    "\n",
    "conn = mysql.connector.connect(\n",
    "    host = \"database-1.c3q2igwk6510.ap-northeast-2.rds.amazonaws.com\",\n",
    "    port = 3306,\n",
    "    user = \"root\",\n",
    "    password = \"\",\n",
    "    database = \"project_merge\"\n",
    ")\n",
    "cursor = conn.cursor(buffered=True)\n",
    "\n",
    "---\n",
    "import pandas as pd\n",
    "\n",
    "df = pd.read_csv(\"../data/project_eda_dataset/saramin_robot_control.csv\")#각자 파일 주소\n",
    "df.head()\n",
    "---\n",
    "\n",
    "# 값 가져오기\n",
    "for index, row in df.iterrows():\n",
    "    insert_query = \"\"\"\n",
    "    INSERT INTO project_merge (`기업이름`, `고용형태`, `연봉`, `기업주소`, `키워드`, `담당업무`, `필요역량`)\n",
    "    VALUES (%s, %s, %s, %s, %s, %s, %s);\n",
    "    \"\"\"\n",
    "    cursor.execute(insert_query, (\n",
    "        row['기업이름'], row['고용형태'], row['연봉'], row['기업주소'],\n",
    "        row['키워드'], row['담당업무'], row['필요역량']\n",
    "    ))\n",
    "\n",
    "---\n",
    "cursor.execute(\"ALTER TABLE cor_growth ADD COLUMN 인덱스 INT;\")\n",
    "---\n",
    "cursor.execute(\"SET @index = 0;\")\n",
    "cursor.execute(\"UPDATE cor_growth SET `인덱스` = @index:=@index+1;\")\n",
    "---\n",
    "conn.commit()"
   ]
  }
 ],
 "metadata": {
  "kernelspec": {
   "display_name": "eda_venv",
   "language": "python",
   "name": "python3"
  },
  "language_info": {
   "name": "python",
   "version": "3.10.12"
  }
 },
 "nbformat": 4,
 "nbformat_minor": 2
}
