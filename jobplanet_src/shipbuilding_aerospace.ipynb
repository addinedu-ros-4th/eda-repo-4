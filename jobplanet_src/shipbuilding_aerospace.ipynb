{
 "cells": [
  {
   "cell_type": "code",
   "execution_count": 1,
   "metadata": {},
   "outputs": [],
   "source": [
    "from tqdm.notebook import tqdm\n",
    "from selenium.webdriver.common.keys import Keys\n",
    "from selenium.webdriver.support.wait import WebDriverWait\n",
    "from selenium.webdriver.support import expected_conditions as EC\n",
    "from selenium.webdriver.common.action_chains import ActionChains\n",
    "from selenium import webdriver\n",
    "from selenium.webdriver.chrome.service import Service\n",
    "from selenium.webdriver.chrome.options import Options\n",
    "from selenium.webdriver.common.by import By\n",
    "import time\n",
    "from bs4 import BeautifulSoup\n",
    "from urllib.request import urlopen\n",
    "from urllib.request import Request\n",
    "import urllib\n",
    "from user_agent import generate_user_agent"
   ]
  },
  {
   "cell_type": "code",
   "execution_count": 2,
   "metadata": {},
   "outputs": [],
   "source": [
    "driver = webdriver.Chrome(service=Service('../../../driver/chromedriver'))\n",
    "driver.get('https://www.jobplanet.co.kr/companies?industry_id=210&page=1')"
   ]
  },
  {
   "cell_type": "code",
   "execution_count": 3,
   "metadata": {},
   "outputs": [
    {
     "data": {
      "application/vnd.jupyter.widget-view+json": {
       "model_id": "399913e61aa1495bae841242735ceb2b",
       "version_major": 2,
       "version_minor": 0
      },
      "text/plain": [
       "  0%|          | 0/10 [00:00<?, ?it/s]"
      ]
     },
     "metadata": {},
     "output_type": "display_data"
    },
    {
     "name": "stdout",
     "output_type": "stream",
     "text": [
      "['에이치디현대중공업(주) following', '제조/화학', '2.9', '4,970']\n",
      "['삼성중공업(주) following', '제조/화학', '2.8', '4,892']\n",
      "['한화오션(주) following', '제조/화학', '3.1', '4,746']\n",
      "['한국항공우주산업(주) following', '제조/화학', '3.7', '5,789']\n",
      "['(주)케이조선 following', '제조/화학', '2.7', '4,206']\n",
      "['성동조선해양(주) following', '제조/화학', '2.9', '4,323']\n",
      "['(주)아스트 following', '제조/화학', '1.9', '3,666']\n",
      "['쏘테크(주) following', '제조/화학', '2.1', '3,688']\n",
      "['(주)현대미포조선 following', '제조/화학', '3.2', '5,004']\n",
      "['하이즈항공(주) following', '제조/화학', '2.2', '3,106']\n",
      "['(주)세진중공업 following', '제조/화학', '2.4', '4,079']\n",
      "['현대삼호중공업(주) following', '제조/화학', '3.0', '5,298']\n",
      "['(주)파나시아 following', '제조/화학', '3.0', '3,696']\n",
      "['(주)에이스브이 following', '제조/화학', '2.3', '3,688']\n",
      "['(주)동성화인텍 following', '제조/화학', '2.8', '3,916']\n",
      "['에스피피조선(주) following', '제조/화학', '2.9', '4,137']\n",
      "['칸(주) following', '제조/화학', '2.5', '3,763']\n",
      "['티엔오디앤씨(주) following', '제조/화학', '2.5', '4,003']\n",
      "['(주)쎄트렉아이 following', '제조/화학', '3.9', '5,800']\n",
      "['한라아이엠에스(주) following', '제조/화학', '2.8', '3,403']\n",
      "['켄코아에어로스페이스(주) following', '제조/화학', '2.1', '3,353']\n",
      "['대양전기공업(주) following', '제조/화학', '3.1', '4,038']\n",
      "['대한조선(주) following', '제조/화학', '2.6', '4,322']\n",
      "['도담시스템스(주) following', '제조/화학', '2.5', '4,108']\n",
      "['유콘시스템(주) following', '제조/화학', '2.4', '3,686']\n",
      "['하나아이티엠(주) following', '제조/화학', '2.0', '3,319']\n",
      "['금용기계(주) following', '제조/화학', '2.8', '3,771']\n",
      "['(주)비츠로넥스텍 following', '제조/화학', '2.7', '4,327']\n",
      "['대화항공산업(주) following', '제조/화학', '1.9', '2,972']\n",
      "['에이치엘비(주) following', '제조/화학', '2.5', '3,422']\n",
      "['마르센(주) following', '제조/화학', '1.8', '2,921']\n",
      "['삼영기계(주) following', '제조/화학', '2.6', '3,442']\n",
      "['오리엔탈정공(주) following', '제조/화학', '2.8', '3,578']\n",
      "['세진기술산업 following', '제조/화학', '2.7', '3,505']\n",
      "['대명엔지니어링(주) following', '제조/화학', '2.0', '3,191']\n",
      "['종합해사(주) following', '제조/화학', '2.5', '2,927']\n",
      "['(유)프라이그파이스트 following', '제조/화학', '2.5', '3,858']\n",
      "['케이에스비세일(주) following', '제조/화학', '3.4', '3,693']\n",
      "['오리온테크놀리지(주) following', '제조/화학', '3.2', '3,648']\n",
      "['한국복합소재(주) following', '제조/화학', '1.8', '2,770']\n",
      "['(주)아이엠티 following', '제조/화학', '2.7', '4,204']\n",
      "['(주)이노스페이스 following', '제조/화학', '3.5', '3,629']\n",
      "['(주)우남마린 following', '제조/화학', '1.6', '3,668']\n",
      "['세우항공(주) following', '제조/화학', '1.5', '3,291']\n",
      "['(주)나라스페이스테크놀로지 following', '제조/화학', '4.7', '4,910']\n",
      "['루미르(주) following', '제조/화학', '1.4', '4,532']\n",
      "['(주)니어스랩 following', '제조/화학', '3.1', '4,886']\n",
      "['(주)루맥스에어로스페이스 following', '제조/화학', '2.8', '3,289']\n",
      "['(주)에비오시스테크놀러지스 following', '제조/화학', '2.8', '3,851']\n",
      "['광성(주) following', '제조/화학', '2.3', '2,617']\n",
      "['삼우티이에스(주) following', '제조/화학', '1.3', '3,260']\n",
      "['(주)성진디에스피 following', '제조/화학', '1.5', '4,013']\n",
      "['(주)화영 following', '제조/화학', '1.6', '2,890']\n",
      "['오션테크(주) following', '제조/화학', '2.4', '5,556']\n",
      "['하이에어코리아의장(주) following', '제조/화학', '2.4', '3,348']\n",
      "['건화공업(주) following', '제조/화학', '2.5', '2,952']\n",
      "['(주)에이디이 following', '제조/화학', '1.8', '4,371']\n",
      "['(주)억세스위 following', '제조/화학', '2.5', '0']\n",
      "['(주)진글라이더 following', '제조/화학', '2.1', '2,982']\n",
      "['신아에스비(주) following', '제조/화학', '4.4', '4,505']\n",
      "['페리지에어로스페이스(주) following', '제조/화학', '3.9', '5,375']\n",
      "['오리엔탈정밀기계(주) following', '제조/화학', '2.2', '2,820']\n",
      "['정공산업(주) following', '제조/화학', '2.4', '2,988']\n",
      "['힘스(주) following', '제조/화학', '3.5', '3,719']\n",
      "['(주)산아이에스엔 following', '제조/화학', '2.9', '3,073']\n",
      "['(주)보라스카이 following', '제조/화학', '2.3', '3,679']\n",
      "['비스코산업(주) following', '제조/화학', '3.0', '3,571']\n",
      "['얼짱몸짱 following', '제조/화학', '2.7', '1,155']\n",
      "['일선기업 following', '제조/화학', '3.0', '2,298']\n",
      "['(주)탱고드론 following', '제조/화학', '4.0', '3,021']\n",
      "['대우에스티아이(주) following', '제조/화학', '3.5', '2,563']\n",
      "['동원중공업(주) following', '제조/화학', '3.0', '2,335']\n",
      "['엘케이컨트롤 following', '제조/화학', '1.0', '0']\n",
      "['(주)동남코리아 following', '제조/화학', '3.0', '3,180']\n",
      "['(주)세일정공 following', '제조/화학', '4.0', '3,250']\n",
      "['대현중공업(주) following', '제조/화학', '2.0', '3,069']\n",
      "['맥스아이(주) following', '제조/화학', '3.0', '5,850']\n",
      "['삼지이엔지(주) following', '제조/화학', '1.0', '2,794']\n",
      "['송강중공업(주) following', '제조/화학', '5.0', '2,876']\n",
      "['신원디앤티(주) following', '제조/화학', '3.0', '3,995']\n",
      "['진상기업(주) following', '제조/화학', '3.0', '3,228']\n",
      "['클럽마리나(주) following', '제조/화학', '3.0', '0']\n",
      "['(유)성문 following', '제조/화학', '0.0', '4,212']\n",
      "['(주)군장조선 following', '제조/화학', '0.0', '1,610']\n",
      "['(주)신동무선 following', '제조/화학', '0.0', '0']\n",
      "['(주)쿼터니언 following', '제조/화학', '0.0', '0']\n",
      "['(주)화인코왁 following', '제조/화학', '0.0', '3,201']\n",
      "['대양산업 following', '제조/화학', '0.0', '0']\n",
      "['백광엔지니어링(주) following', '제조/화학', '0.0', '0']\n",
      "['보고(주) following', '제조/화학', '0.0', '3,864']\n",
      "['유신(주) following', '제조/화학', '0.0', '3,383']\n"
     ]
    }
   ],
   "source": [
    "import time\n",
    "from tqdm.notebook import tqdm\n",
    "\n",
    "company_list = []\n",
    "\n",
    "for i in tqdm(range(1,11)):\n",
    "    time.sleep(1)\n",
    "    elements = driver.find_elements(By.CLASS_NAME, 'company.content_ty3')\n",
    "    \n",
    "    for elem in elements:\n",
    "        company =[]\n",
    "\n",
    "        name = elem.find_element(By.CLASS_NAME,'us_titb_l3').text\n",
    "        field = elem.find_element(By.CLASS_NAME, 'us_stxt_1').text\n",
    "        point = elem.find_element(By.CLASS_NAME, 'gfvalue').text\n",
    "        money = elem.find_element(By.CLASS_NAME, 'notranslate').text\n",
    "        \n",
    "        company.append(name)\n",
    "        company.append(field)\n",
    "        company.append(point)\n",
    "        company.append(money)\n",
    "        company_list.append(company)\n",
    "        print(company)\n",
    "\n",
    "    driver.find_element(By.CLASS_NAME, 'btn_pgnext').click()"
   ]
  },
  {
   "cell_type": "code",
   "execution_count": 4,
   "metadata": {},
   "outputs": [],
   "source": [
    "import pandas as pd \n",
    "com1 = company_list\n",
    "columns=['기업이름','분야','평점','연봉']\n",
    "df1 = pd.DataFrame(com1, columns=columns)"
   ]
  },
  {
   "cell_type": "code",
   "execution_count": 5,
   "metadata": {},
   "outputs": [],
   "source": [
    "df1['기업이름'] = df1['기업이름'].str.split('f').str[0]\n",
    "df1['평점'] = df1['평점'].astype(float)\n",
    "df1['연봉'] = df1['연봉'].replace({',': ''}, regex=True)\n",
    "df1['연봉'] = df1['연봉'].astype(int)\n",
    "df1['2차산업군'] = '조선/항공/우주'"
   ]
  },
  {
   "cell_type": "code",
   "execution_count": 6,
   "metadata": {},
   "outputs": [],
   "source": [
    "df1.to_csv('../../../data/eda_project_data/잡플래닛/조선항공우주.csv',index=False)"
   ]
  },
  {
   "cell_type": "code",
   "execution_count": 7,
   "metadata": {},
   "outputs": [],
   "source": [
    "driver.quit()"
   ]
  }
 ],
 "metadata": {
  "kernelspec": {
   "display_name": "eda_venv",
   "language": "python",
   "name": "python3"
  },
  "language_info": {
   "codemirror_mode": {
    "name": "ipython",
    "version": 3
   },
   "file_extension": ".py",
   "mimetype": "text/x-python",
   "name": "python",
   "nbconvert_exporter": "python",
   "pygments_lexer": "ipython3",
   "version": "3.10.12"
  }
 },
 "nbformat": 4,
 "nbformat_minor": 2
}
