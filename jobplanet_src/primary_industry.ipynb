{
 "cells": [
  {
   "cell_type": "code",
   "execution_count": 1,
   "metadata": {},
   "outputs": [],
   "source": [
    "from tqdm.notebook import tqdm\n",
    "from selenium.webdriver.common.keys import Keys\n",
    "from selenium.webdriver.support.wait import WebDriverWait\n",
    "from selenium.webdriver.support import expected_conditions as EC\n",
    "from selenium.webdriver.common.action_chains import ActionChains\n",
    "from selenium import webdriver\n",
    "from selenium.webdriver.chrome.service import Service\n",
    "from selenium.webdriver.chrome.options import Options\n",
    "from selenium.webdriver.common.by import By\n",
    "import time\n",
    "from bs4 import BeautifulSoup\n",
    "from urllib.request import urlopen\n",
    "from urllib.request import Request\n",
    "import urllib\n",
    "from user_agent import generate_user_agent"
   ]
  },
  {
   "cell_type": "code",
   "execution_count": 2,
   "metadata": {},
   "outputs": [],
   "source": [
    "driver = webdriver.Chrome(service=Service('../../../driver/chromedriver'))\n",
    "driver.get('https://www.jobplanet.co.kr/companies?industry_id=207&page=1')"
   ]
  },
  {
   "cell_type": "code",
   "execution_count": 3,
   "metadata": {},
   "outputs": [
    {
     "data": {
      "application/vnd.jupyter.widget-view+json": {
       "model_id": "7992c8a8002c487a9319c360f1ddcd20",
       "version_major": 2,
       "version_minor": 0
      },
      "text/plain": [
       "  0%|          | 0/6 [00:00<?, ?it/s]"
      ]
     },
     "metadata": {},
     "output_type": "display_data"
    },
    {
     "name": "stdout",
     "output_type": "stream",
     "text": [
      "['동원산업(주) following', '제조/화학', '2.2', '3,914']\n",
      "['농업회사법인조인(주) following', '제조/화학', '2.6', '3,355']\n",
      "['(주)체리부로 following', '제조/화학', '2.2', '3,196']\n",
      "['농업회사법인아시아종묘(주) following', '제조/화학', '2.2', '3,654']\n",
      "['한국석유공사 following', '제조/화학', '3.5', '5,148']\n",
      "['사조산업(주) following', '제조/화학', '1.6', '3,930']\n",
      "['신라교역(주) following', '제조/화학', '2.4', '4,222']\n",
      "['농업회사법인(주)농우바이오 following', '제조/화학', '2.8', '3,980']\n",
      "['농업회사법인만나씨이에이(주) following', '제조/화학', '3.1', '3,266']\n",
      "['농업회사법인(주)넥스트온 following', '제조/화학', '2.4', '3,028']\n",
      "['농업회사법인(주)다비육종 following', '제조/화학', '2.7', '3,489']\n",
      "['코린도 following', '제조/화학', '3.1', '6,250']\n",
      "['(주)서울바이오 following', '제조/화학', '3.0', '3,176']\n",
      "['대한석탄공사 following', '제조/화학', '2.8', '4,205']\n",
      "['농업회사법인(주)피피에스 following', '제조/화학', '2.8', '3,550']\n",
      "['(주)농업회사법인온브릭스 following', '제조/화학', '2.8', '2,736']\n",
      "['성화산업(주) following', '제조/화학', '2.8', '4,428']\n",
      "['록야(주) following', '제조/화학', '2.3', '3,894']\n",
      "['참손푸드(주) following', '제조/화학', '3.0', '3,220']\n",
      "['(주)농경 following', '제조/화학', '2.3', '3,433']\n",
      "['쌍용자원개발(주) following', '제조/화학', '2.1', '7,055']\n",
      "['퀸타일즈 following', '제조/화학', '2.4', '5,315']\n",
      "['한국의집 following', '제조/화학', '3.6', '2,460']\n",
      "['인성실업(주) following', '제조/화학', '3.5', '4,136']\n",
      "['(주)한림농원 농업회사법인 following', '제조/화학', '2.3', '0']\n",
      "['(주)동원 following', '제조/화학', '3.0', '3,218']\n",
      "['경북햇살농원영농조합법인 following', '제조/화학', '3.0', '0']\n",
      "['내추럴초이스(주) following', '제조/화학', '3.5', '0']\n",
      "['에스엔이 following', '제조/화학', '2.5', '2,620']\n",
      "['태흥종축영농조합법인 following', '제조/화학', '2.0', '2,803']\n",
      "['휴미템 following', '제조/화학', '5.0', '0']\n",
      "['(주)에이디수산 following', '제조/화학', '5.0', '0']\n",
      "['구례군산림조합 following', '제조/화학', '2.0', '3,965']\n",
      "['세종특별자치시산림조합 following', '제조/화학', '4.0', '0']\n",
      "['에스엠알(주) following', '제조/화학', '1.0', '0']\n",
      "['이레푸드 following', '제조/화학', '4.0', '0']\n",
      "['토마토 following', '제조/화학', '3.0', '3,567']\n",
      "['(주)이너팜 following', '제조/화학', '0.0', '0']\n",
      "['더푸른채영농조합법인 following', '제조/화학', '0.0', '0']\n",
      "['무경산업 following', '제조/화학', '0.0', '2,440']\n",
      "['소래영농조합법인 following', '제조/화학', '0.0', '0']\n",
      "['신농영농조합법인 following', '제조/화학', '0.0', '0']\n",
      "['영농조합법인자연농산 following', '제조/화학', '0.0', '0']\n",
      "['영농조합법인한국농원 following', '제조/화학', '0.0', '2,092']\n",
      "['영농조합법인화성21 following', '제조/화학', '0.0', '0']\n",
      "['영천양잠농업협동조합 following', '제조/화학', '0.0', '0']\n",
      "['일이축산영농조합법인 following', '제조/화학', '0.0', '2,231']\n",
      "['임진강영어조합법인 following', '제조/화학', '0.0', '0']\n",
      "['정읍양잠농업협동조합 following', '제조/화학', '0.0', '0']\n",
      "['제석영농조합법인 following', '제조/화학', '0.0', '1,800']\n",
      "['제주양계영농조합법인 following', '제조/화학', '0.0', '2,214']\n",
      "['창진영농조합법인 following', '제조/화학', '0.0', '3,623']\n",
      "['텃골영농조합법인 following', '제조/화학', '0.0', '2,653']\n",
      "['피그진코리아(주) following', '제조/화학', '0.0', '3,510']\n",
      "['하늘농산영농조합법인 following', '제조/화학', '0.0', '0']\n",
      "['함양지리산영농조합법인 following', '제조/화학', '0.0', '0']\n",
      "['호남버섯영농조합법인 following', '제조/화학', '0.0', '0']\n"
     ]
    }
   ],
   "source": [
    "import time\n",
    "from tqdm.notebook import tqdm\n",
    "\n",
    "company_list = []\n",
    "\n",
    "for i in tqdm(range(1,7)):\n",
    "    time.sleep(1)\n",
    "    elements = driver.find_elements(By.CLASS_NAME, 'company.content_ty3')\n",
    "    \n",
    "    for elem in elements:\n",
    "        company =[]\n",
    "\n",
    "        name = elem.find_element(By.CLASS_NAME,'us_titb_l3').text\n",
    "        field = elem.find_element(By.CLASS_NAME, 'us_stxt_1').text\n",
    "        point = elem.find_element(By.CLASS_NAME, 'gfvalue').text\n",
    "        money = elem.find_element(By.CLASS_NAME, 'notranslate').text\n",
    "        \n",
    "        company.append(name)\n",
    "        company.append(field)\n",
    "        company.append(point)\n",
    "        company.append(money)\n",
    "        company_list.append(company)\n",
    "        print(company)\n",
    "\n",
    "    driver.find_element(By.CLASS_NAME, 'btn_pgnext').click()"
   ]
  },
  {
   "cell_type": "code",
   "execution_count": 4,
   "metadata": {},
   "outputs": [],
   "source": [
    "import pandas as pd \n",
    "com1 = company_list\n",
    "columns=['기업이름','분야','평점','연봉']\n",
    "df1 = pd.DataFrame(com1, columns=columns)"
   ]
  },
  {
   "cell_type": "code",
   "execution_count": 5,
   "metadata": {},
   "outputs": [],
   "source": [
    "df1['기업이름'] = df1['기업이름'].str.split('f').str[0]\n",
    "df1['평점'] = df1['평점'].astype(float)\n",
    "df1['연봉'] = df1['연봉'].replace({',': ''}, regex=True)\n",
    "df1['연봉'] = df1['연봉'].astype(int)\n",
    "df1['2차산업군'] = '농업/어업/임업/광업'"
   ]
  },
  {
   "cell_type": "code",
   "execution_count": 6,
   "metadata": {},
   "outputs": [],
   "source": [
    "df1.to_csv('../../../data/eda_project_data/잡플래닛/농업임업어업광업.csv',index=False)"
   ]
  },
  {
   "cell_type": "code",
   "execution_count": 7,
   "metadata": {},
   "outputs": [],
   "source": [
    "driver.quit()"
   ]
  }
 ],
 "metadata": {
  "kernelspec": {
   "display_name": "eda_venv",
   "language": "python",
   "name": "python3"
  },
  "language_info": {
   "codemirror_mode": {
    "name": "ipython",
    "version": 3
   },
   "file_extension": ".py",
   "mimetype": "text/x-python",
   "name": "python",
   "nbconvert_exporter": "python",
   "pygments_lexer": "ipython3",
   "version": "3.10.12"
  }
 },
 "nbformat": 4,
 "nbformat_minor": 2
}
