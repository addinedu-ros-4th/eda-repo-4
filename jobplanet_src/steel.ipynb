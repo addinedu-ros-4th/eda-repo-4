{
 "cells": [
  {
   "cell_type": "code",
   "execution_count": 1,
   "metadata": {},
   "outputs": [],
   "source": [
    "from tqdm.notebook import tqdm\n",
    "from selenium.webdriver.common.keys import Keys\n",
    "from selenium.webdriver.support.wait import WebDriverWait\n",
    "from selenium.webdriver.support import expected_conditions as EC\n",
    "from selenium.webdriver.common.action_chains import ActionChains\n",
    "from selenium import webdriver\n",
    "from selenium.webdriver.chrome.service import Service\n",
    "from selenium.webdriver.chrome.options import Options\n",
    "from selenium.webdriver.common.by import By\n",
    "import time\n",
    "from bs4 import BeautifulSoup\n",
    "from urllib.request import urlopen\n",
    "from urllib.request import Request\n",
    "import urllib\n",
    "from user_agent import generate_user_agent"
   ]
  },
  {
   "cell_type": "code",
   "execution_count": 2,
   "metadata": {},
   "outputs": [],
   "source": [
    "driver = webdriver.Chrome(service=Service('../../../driver/chromedriver'))\n",
    "driver.get('https://www.jobplanet.co.kr/companies?industry_id=212&page=1')"
   ]
  },
  {
   "cell_type": "code",
   "execution_count": 4,
   "metadata": {},
   "outputs": [
    {
     "data": {
      "application/vnd.jupyter.widget-view+json": {
       "model_id": "c806be54e1284c2aa130d611de48b650",
       "version_major": 2,
       "version_minor": 0
      },
      "text/plain": [
       "  0%|          | 0/2 [00:00<?, ?it/s]"
      ]
     },
     "metadata": {},
     "output_type": "display_data"
    },
    {
     "name": "stdout",
     "output_type": "stream",
     "text": [
      "['베아티투도 following', '제조/화학', '0.0', '0']\n",
      "['삼인실업(주) following', '제조/화학', '0.0', '2,549']\n",
      "['삼전(주) following', '제조/화학', '0.0', '3,517']\n",
      "['아세아볼트기업(주) following', '제조/화학', '0.0', '0']\n",
      "['오토쿰푸브이디엠코리아(주) following', '제조/화학', '0.0', '3,266']\n",
      "['와이제이스틸(주) following', '제조/화학', '0.0', '3,075']\n",
      "['유창알미늄 following', '제조/화학', '0.0', '0']\n",
      "['이온이에스(주) following', '제조/화학', '0.0', '3,516']\n",
      "['정진공업(주) following', '제조/화학', '0.0', '2,722']\n",
      "['줌톤(주) following', '제조/화학', '0.0', '3,613']\n",
      "['중흥스텐 following', '제조/화학', '0.0', '0']\n",
      "['카스코(주) following', '제조/화학', '0.0', '4,297']\n",
      "['케이씨씨자원개발(주) following', '제조/화학', '0.0', '3,946']\n",
      "['토네이도(주) following', '제조/화학', '0.0', '3,075']\n",
      "['한머시너리 following', '제조/화학', '0.0', '0']\n",
      "['한욱초자(주) following', '제조/화학', '0.0', '2,575']\n"
     ]
    }
   ],
   "source": [
    "import time\n",
    "from tqdm.notebook import tqdm\n",
    "\n",
    "# company_list = []\n",
    "\n",
    "for i in tqdm(range(1,3)):\n",
    "    time.sleep(1)\n",
    "    elements = driver.find_elements(By.CLASS_NAME, 'company.content_ty3')\n",
    "    \n",
    "    for elem in elements:\n",
    "        company =[]\n",
    "\n",
    "        name = elem.find_element(By.CLASS_NAME,'us_titb_l3').text\n",
    "        field = elem.find_element(By.CLASS_NAME, 'us_stxt_1').text\n",
    "        point = elem.find_element(By.CLASS_NAME, 'gfvalue').text\n",
    "        money = elem.find_element(By.CLASS_NAME, 'notranslate').text\n",
    "        \n",
    "        company.append(name)\n",
    "        company.append(field)\n",
    "        company.append(point)\n",
    "        company.append(money)\n",
    "        company_list.append(company)\n",
    "        print(company)\n",
    "\n",
    "    driver.find_element(By.CLASS_NAME, 'btn_pgnext').click()"
   ]
  },
  {
   "cell_type": "code",
   "execution_count": 5,
   "metadata": {},
   "outputs": [],
   "source": [
    "import pandas as pd \n",
    "com1 = company_list\n",
    "columns=['기업이름','분야','평점','연봉']\n",
    "df1 = pd.DataFrame(com1, columns=columns)"
   ]
  },
  {
   "cell_type": "code",
   "execution_count": 6,
   "metadata": {},
   "outputs": [],
   "source": [
    "df1['기업이름'] = df1['기업이름'].str.split('f').str[0]\n",
    "df1['평점'] = df1['평점'].astype(float)\n",
    "df1['연봉'] = df1['연봉'].replace({',': ''}, regex=True)\n",
    "df1['연봉'] = df1['연봉'].astype(int)\n",
    "df1['2차산업군'] = '금속/재료/철강'"
   ]
  },
  {
   "cell_type": "code",
   "execution_count": 7,
   "metadata": {},
   "outputs": [],
   "source": [
    "df1.to_csv('../../../data/eda_project_data/잡플래닛/금속재료철강.csv',index=False)"
   ]
  },
  {
   "cell_type": "code",
   "execution_count": 8,
   "metadata": {},
   "outputs": [],
   "source": [
    "driver.quit()"
   ]
  }
 ],
 "metadata": {
  "kernelspec": {
   "display_name": "eda_venv",
   "language": "python",
   "name": "python3"
  },
  "language_info": {
   "codemirror_mode": {
    "name": "ipython",
    "version": 3
   },
   "file_extension": ".py",
   "mimetype": "text/x-python",
   "name": "python",
   "nbconvert_exporter": "python",
   "pygments_lexer": "ipython3",
   "version": "3.10.12"
  }
 },
 "nbformat": 4,
 "nbformat_minor": 2
}
