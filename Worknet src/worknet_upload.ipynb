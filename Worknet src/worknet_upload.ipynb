{
 "cells": [
  {
   "cell_type": "code",
   "execution_count": 3,
   "metadata": {},
   "outputs": [],
   "source": [
    "import mysql.connector\n",
    "\n",
    "conn = mysql.connector.connect(\n",
    "    host = \"your_host\",\n",
    "    port = your_port,\n",
    "    user = \"your_username\",\n",
    "    password = \"your_password\",\n",
    "    database = \"your_database\"\n",
    ")\n",
    "cursor = conn.cursor(buffered=True)\n"
   ]
  },
  {
   "cell_type": "code",
   "execution_count": null,
   "metadata": {},
   "outputs": [],
   "source": [
    "import pandas as pd\n",
    "\n",
    "df = pd.read_csv(\"/home/kkyu/amr_ws/eda/data/jumpit_deeplearning.csv\")\n",
    "df.head()\n",
    "\n",
    "# 값 가져오기\n",
    "for index, row in df.iterrows():\n",
    "    insert_query = \"\"\"\n",
    "    INSERT INTO project_merge (`기업이름`, `고용형태`, `연봉`, `기업주소`, `키워드`, `담당업무`, `필요역량`)\n",
    "    VALUES (%s, %s, %s, %s, %s, %s, %s);\n",
    "    \"\"\"\n",
    "    cursor.execute(insert_query, (\n",
    "        row['기업이름'], row['고용형태'], row['연봉'], row['기업주소'],\n",
    "        row['키워드'], row['담당업무'], row['필요역량']\n",
    "    ))\n",
    "\n",
    "cursor.execute(\"ALTER TABLE cor_growth ADD COLUMN 인덱스 INT;\")\n",
    "cursor.execute(\"SET @index = 0;\")\n",
    "cursor.execute(\"UPDATE cor_growth SET `인덱스` = @index:=@index+1;\")\n",
    "conn.commit()"
   ]
  }
 ],
 "metadata": {
  "kernelspec": {
   "display_name": "Python 3 (ipykernel)",
   "language": "python",
   "name": "python3"
  },
  "language_info": {
   "codemirror_mode": {
    "name": "ipython",
    "version": 3
   },
   "file_extension": ".py",
   "mimetype": "text/x-python",
   "name": "python",
   "nbconvert_exporter": "python",
   "pygments_lexer": "ipython3",
   "version": "3.10.12"
  }
 },
 "nbformat": 4,
 "nbformat_minor": 2
}
